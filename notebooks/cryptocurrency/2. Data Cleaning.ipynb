{
 "cells": [
  {
   "cell_type": "markdown",
   "metadata": {},
   "source": [
    "# Cleaning Cryptocurrency data"
   ]
  },
  {
   "cell_type": "markdown",
   "metadata": {},
   "source": [
    "In this notebook, we are going to merge the data as best as possible with the previous CSV files opened in the previous notebook. As we know, all of them except `bitcoin_dataset.csv` and `ethereum_dataset.csv` have the same columns. These columns are the following:\n",
    "\n",
    "* Date: date of observation\n",
    "* Open: Opening price on the given day\n",
    "* High: Highest price on the given day\n",
    "* Low: Lowest price on the given day\n",
    "* Close: Closing price on the given day\n",
    "* Volume: Volume of transactions on the given day\n",
    "* Market Cap: Market capitalization in USD"
   ]
  },
  {
   "cell_type": "code",
   "execution_count": 87,
   "metadata": {},
   "outputs": [],
   "source": [
    "from pathlib import Path\n",
    "from subprocess import check_output\n",
    "\n",
    "import pandas as pd\n",
    "import glob"
   ]
  },
  {
   "cell_type": "code",
   "execution_count": 88,
   "metadata": {},
   "outputs": [],
   "source": [
    "DATA_PATH = Path('../../data/raw/cryptocurrencypricehistory')\n",
    "PROCESSED_DATA_PATH = Path('../../data/processed/cryptocurrencypricehistory')\n",
    "\n",
    "PROCESSED_DATA_PATH.mkdir(exist_ok=True, parents=True)"
   ]
  },
  {
   "cell_type": "markdown",
   "metadata": {},
   "source": [
    "Then we can see the different files that they need to be cleaned by us."
   ]
  },
  {
   "cell_type": "code",
   "execution_count": 89,
   "metadata": {},
   "outputs": [
    {
     "output_type": "stream",
     "name": "stdout",
     "text": "bitcoin_cash_price.csv\nbitcoin_dataset.csv\nbitcoin_price.csv\nbitconnect_price.csv\ndash_price.csv\nethereum_classic_price.csv\nethereum_dataset.csv\nethereum_price.csv\niota_price.csv\nlitecoin_price.csv\nmonero_price.csv\nnem_price.csv\nneo_price.csv\nnumeraire_price.csv\nomisego_price.csv\nqtum_price.csv\nripple_price.csv\nstratis_price.csv\nwaves_price.csv\n\n"
    }
   ],
   "source": [
    "print(check_output([\"ls\", DATA_PATH]).decode(\"utf8\"))"
   ]
  },
  {
   "cell_type": "markdown",
   "metadata": {},
   "source": [
    "For instance, if we open a file and read then, we can see the different attributes as we said before. "
   ]
  },
  {
   "cell_type": "code",
   "execution_count": 90,
   "metadata": {},
   "outputs": [
    {
     "output_type": "execute_result",
     "data": {
      "text/plain": "                Open    High     Low   Close       Volume      Market Cap\nDate                                                                     \nSep 05, 2017  514.90  550.95  458.78  541.71  338,978,000   8,527,100,000\nSep 04, 2017  608.26  608.26  500.75  517.24  328,957,000  10,072,200,000\nSep 03, 2017  578.27  617.41  563.59  607.43  344,862,000   9,574,520,000\nSep 02, 2017  621.96  642.05  560.58  575.90  350,478,000  10,297,000,000\nSep 01, 2017  588.40  645.52  586.73  622.17  393,839,000   9,740,460,000",
      "text/html": "<div>\n<style scoped>\n    .dataframe tbody tr th:only-of-type {\n        vertical-align: middle;\n    }\n\n    .dataframe tbody tr th {\n        vertical-align: top;\n    }\n\n    .dataframe thead th {\n        text-align: right;\n    }\n</style>\n<table border=\"1\" class=\"dataframe\">\n  <thead>\n    <tr style=\"text-align: right;\">\n      <th></th>\n      <th>Open</th>\n      <th>High</th>\n      <th>Low</th>\n      <th>Close</th>\n      <th>Volume</th>\n      <th>Market Cap</th>\n    </tr>\n    <tr>\n      <th>Date</th>\n      <th></th>\n      <th></th>\n      <th></th>\n      <th></th>\n      <th></th>\n      <th></th>\n    </tr>\n  </thead>\n  <tbody>\n    <tr>\n      <th>Sep 05, 2017</th>\n      <td>514.90</td>\n      <td>550.95</td>\n      <td>458.78</td>\n      <td>541.71</td>\n      <td>338,978,000</td>\n      <td>8,527,100,000</td>\n    </tr>\n    <tr>\n      <th>Sep 04, 2017</th>\n      <td>608.26</td>\n      <td>608.26</td>\n      <td>500.75</td>\n      <td>517.24</td>\n      <td>328,957,000</td>\n      <td>10,072,200,000</td>\n    </tr>\n    <tr>\n      <th>Sep 03, 2017</th>\n      <td>578.27</td>\n      <td>617.41</td>\n      <td>563.59</td>\n      <td>607.43</td>\n      <td>344,862,000</td>\n      <td>9,574,520,000</td>\n    </tr>\n    <tr>\n      <th>Sep 02, 2017</th>\n      <td>621.96</td>\n      <td>642.05</td>\n      <td>560.58</td>\n      <td>575.90</td>\n      <td>350,478,000</td>\n      <td>10,297,000,000</td>\n    </tr>\n    <tr>\n      <th>Sep 01, 2017</th>\n      <td>588.40</td>\n      <td>645.52</td>\n      <td>586.73</td>\n      <td>622.17</td>\n      <td>393,839,000</td>\n      <td>9,740,460,000</td>\n    </tr>\n  </tbody>\n</table>\n</div>"
     },
     "metadata": {},
     "execution_count": 90
    }
   ],
   "source": [
    "df_0 = pd.read_csv(DATA_PATH / 'bitcoin_cash_price.csv', index_col='Date')\n",
    "\n",
    "df_0.head()"
   ]
  },
  {
   "cell_type": "markdown",
   "metadata": {},
   "source": [
    "The value that we take into account on this table will be the `Close` value.\n",
    "\n",
    "Now, we are going to use the `merge` method to concatenate each column of the dataset by `date`. For each currency we will get the `Close` value. Let's try with before example and all of currency with the same columns.\n",
    "\n",
    "After that, for each column we will rename the column to each cryptocurrency name to distinguish them."
   ]
  },
  {
   "cell_type": "code",
   "execution_count": 91,
   "metadata": {},
   "outputs": [
    {
     "output_type": "execute_result",
     "data": {
      "text/plain": "              bitcoin_cash_price  bitconnect_price  iota_price  ripple_price  \\\nSep 05, 2017              541.71            129.42    0.613085      0.215189   \nSep 04, 2017              517.24            114.13    0.566472      0.204968   \nSep 03, 2017              607.43            130.99    0.743968      0.228811   \nSep 02, 2017              575.90            131.33    0.695547      0.226669   \nSep 01, 2017              622.17            140.97    0.807778      0.248479   \n\n              qtum_price  dash_price  neo_price  monero_price  \\\nSep 05, 2017       11.71      327.23      22.80        118.82   \nSep 04, 2017       10.98      316.13      21.83        106.17   \nSep 03, 2017       15.29      356.39      30.32        126.01   \nSep 02, 2017       16.39      350.17      31.72        124.80   \nSep 01, 2017       18.26      393.35      32.01        141.20   \n\n              numeraire_price  bitcoin_price  stratis_price  \\\nSep 05, 2017            21.53        4376.53           6.03   \nSep 04, 2017            20.74        4236.31           5.77   \nSep 03, 2017            26.90        4582.96           6.59   \nSep 02, 2017            27.24        4578.77           6.34   \nSep 01, 2017            32.45        4892.01           7.25   \n\n              bitcoin_cash_price  waves_price  litecoin_price  ethereum_price  \\\nSep 05, 2017              541.71         4.98           71.29          312.99   \nSep 04, 2017              517.24         4.66           65.21          295.17   \nSep 03, 2017              607.43         5.20           76.84          347.48   \nSep 02, 2017              575.90         5.23           79.02          348.98   \nSep 01, 2017              622.17         5.74           86.04          387.74   \n\n              nem_price  omisego_price  ethereum_classic_price  \nSep 05, 2017   0.286227          10.98                   16.58  \nSep 04, 2017   0.273220           8.78                   15.84  \nSep 03, 2017   0.307264          10.57                   18.57  \nSep 02, 2017   0.295884          10.80                   20.08  \nSep 01, 2017   0.332310          11.97                   21.94  ",
      "text/html": "<div>\n<style scoped>\n    .dataframe tbody tr th:only-of-type {\n        vertical-align: middle;\n    }\n\n    .dataframe tbody tr th {\n        vertical-align: top;\n    }\n\n    .dataframe thead th {\n        text-align: right;\n    }\n</style>\n<table border=\"1\" class=\"dataframe\">\n  <thead>\n    <tr style=\"text-align: right;\">\n      <th></th>\n      <th>bitcoin_cash_price</th>\n      <th>bitconnect_price</th>\n      <th>iota_price</th>\n      <th>ripple_price</th>\n      <th>qtum_price</th>\n      <th>dash_price</th>\n      <th>neo_price</th>\n      <th>monero_price</th>\n      <th>numeraire_price</th>\n      <th>bitcoin_price</th>\n      <th>stratis_price</th>\n      <th>bitcoin_cash_price</th>\n      <th>waves_price</th>\n      <th>litecoin_price</th>\n      <th>ethereum_price</th>\n      <th>nem_price</th>\n      <th>omisego_price</th>\n      <th>ethereum_classic_price</th>\n    </tr>\n  </thead>\n  <tbody>\n    <tr>\n      <th>Sep 05, 2017</th>\n      <td>541.71</td>\n      <td>129.42</td>\n      <td>0.613085</td>\n      <td>0.215189</td>\n      <td>11.71</td>\n      <td>327.23</td>\n      <td>22.80</td>\n      <td>118.82</td>\n      <td>21.53</td>\n      <td>4376.53</td>\n      <td>6.03</td>\n      <td>541.71</td>\n      <td>4.98</td>\n      <td>71.29</td>\n      <td>312.99</td>\n      <td>0.286227</td>\n      <td>10.98</td>\n      <td>16.58</td>\n    </tr>\n    <tr>\n      <th>Sep 04, 2017</th>\n      <td>517.24</td>\n      <td>114.13</td>\n      <td>0.566472</td>\n      <td>0.204968</td>\n      <td>10.98</td>\n      <td>316.13</td>\n      <td>21.83</td>\n      <td>106.17</td>\n      <td>20.74</td>\n      <td>4236.31</td>\n      <td>5.77</td>\n      <td>517.24</td>\n      <td>4.66</td>\n      <td>65.21</td>\n      <td>295.17</td>\n      <td>0.273220</td>\n      <td>8.78</td>\n      <td>15.84</td>\n    </tr>\n    <tr>\n      <th>Sep 03, 2017</th>\n      <td>607.43</td>\n      <td>130.99</td>\n      <td>0.743968</td>\n      <td>0.228811</td>\n      <td>15.29</td>\n      <td>356.39</td>\n      <td>30.32</td>\n      <td>126.01</td>\n      <td>26.90</td>\n      <td>4582.96</td>\n      <td>6.59</td>\n      <td>607.43</td>\n      <td>5.20</td>\n      <td>76.84</td>\n      <td>347.48</td>\n      <td>0.307264</td>\n      <td>10.57</td>\n      <td>18.57</td>\n    </tr>\n    <tr>\n      <th>Sep 02, 2017</th>\n      <td>575.90</td>\n      <td>131.33</td>\n      <td>0.695547</td>\n      <td>0.226669</td>\n      <td>16.39</td>\n      <td>350.17</td>\n      <td>31.72</td>\n      <td>124.80</td>\n      <td>27.24</td>\n      <td>4578.77</td>\n      <td>6.34</td>\n      <td>575.90</td>\n      <td>5.23</td>\n      <td>79.02</td>\n      <td>348.98</td>\n      <td>0.295884</td>\n      <td>10.80</td>\n      <td>20.08</td>\n    </tr>\n    <tr>\n      <th>Sep 01, 2017</th>\n      <td>622.17</td>\n      <td>140.97</td>\n      <td>0.807778</td>\n      <td>0.248479</td>\n      <td>18.26</td>\n      <td>393.35</td>\n      <td>32.01</td>\n      <td>141.20</td>\n      <td>32.45</td>\n      <td>4892.01</td>\n      <td>7.25</td>\n      <td>622.17</td>\n      <td>5.74</td>\n      <td>86.04</td>\n      <td>387.74</td>\n      <td>0.332310</td>\n      <td>11.97</td>\n      <td>21.94</td>\n    </tr>\n  </tbody>\n</table>\n</div>"
     },
     "metadata": {},
     "execution_count": 91
    }
   ],
   "source": [
    "col_list = [\"Date\", \"Close\"]\n",
    "num = 1\n",
    "\n",
    "path = r'../../data/raw/cryptocurrencypricehistory'\n",
    "files = glob.glob(path + \"/*.csv\")\n",
    "\n",
    "df_cc = pd.read_csv(DATA_PATH / 'bitcoin_cash_price.csv', index_col='Date', usecols=col_list)\n",
    "df_cc.rename(columns={df_cc.columns[0]:'bitcoin_cash_price'}, inplace=True)\n",
    "\n",
    "for filename in files:\n",
    "    if filename != (path + '/bitcoin_dataset.csv') and filename != (path + '/ethereum_dataset.csv'):\n",
    "        nf = filename.split('/')\n",
    "        nf = nf[5].split('.')\n",
    "\n",
    "        df = pd.read_csv(filename, index_col='Date', usecols=col_list)\n",
    "        df_cc = pd.concat([df_cc, df], axis=1)\n",
    "        #df_cc = df_cc.merge(df['Close'], 'left', 'Date')\n",
    "\n",
    "        df_cc.rename(columns={df_cc.columns[num]:nf[0]}, inplace=True)\n",
    "\n",
    "        num += 1\n",
    "\n",
    "df_cc.head()"
   ]
  },
  {
   "cell_type": "markdown",
   "metadata": {},
   "source": [
    "Now, we have a table of all close prices of each type of cryptocurrency except the `bitcoin_dataset.csv` and `ethereum_dataset.csv`. \n",
    "\n",
    "Then we are going to check if exists NaN values into the rows."
   ]
  },
  {
   "cell_type": "code",
   "execution_count": 92,
   "metadata": {},
   "outputs": [
    {
     "output_type": "stream",
     "name": "stdout",
     "text": "Rows containing NaN: 1562\n"
    },
    {
     "output_type": "execute_result",
     "data": {
      "text/plain": "bitcoin_cash_price         True\nbitconnect_price           True\niota_price                 True\nripple_price               True\nqtum_price                 True\ndash_price                 True\nneo_price                  True\nmonero_price               True\nnumeraire_price            True\nbitcoin_price             False\nstratis_price              True\nbitcoin_cash_price         True\nwaves_price                True\nlitecoin_price            False\nethereum_price             True\nnem_price                  True\nomisego_price              True\nethereum_classic_price     True\ndtype: bool"
     },
     "metadata": {},
     "execution_count": 92
    }
   ],
   "source": [
    "print('Rows containing NaN:', df_cc.isna().any(axis=1).sum())\n",
    "df_cc.isna().any(axis=0)"
   ]
  },
  {
   "cell_type": "markdown",
   "metadata": {},
   "source": [
    "Also, we are going to repeat the process for `bitcoin_dataset.csv` and `ethereum_dataset.csv`. "
   ]
  },
  {
   "cell_type": "code",
   "execution_count": 93,
   "metadata": {},
   "outputs": [
    {
     "output_type": "stream",
     "name": "stdout",
     "text": "--- Bitcoin Dataset ---\nRows containing NaN: 478\n"
    },
    {
     "output_type": "execute_result",
     "data": {
      "text/plain": "btc_market_price                                       False\nbtc_total_bitcoins                                     False\nbtc_market_cap                                         False\nbtc_trade_volume                                        True\nbtc_blocks_size                                        False\nbtc_avg_block_size                                     False\nbtc_n_orphaned_blocks                                  False\nbtc_n_transactions_per_block                           False\nbtc_median_confirmation_time                           False\nbtc_hash_rate                                          False\nbtc_difficulty                                         False\nbtc_miners_revenue                                     False\nbtc_transaction_fees                                   False\nbtc_cost_per_transaction_percent                       False\nbtc_cost_per_transaction                               False\nbtc_n_unique_addresses                                 False\nbtc_n_transactions                                     False\nbtc_n_transactions_total                               False\nbtc_n_transactions_excluding_popular                   False\nbtc_n_transactions_excluding_chains_longer_than_100    False\nbtc_output_volume                                      False\nbtc_estimated_transaction_volume                       False\nbtc_estimated_transaction_volume_usd                   False\ndtype: bool"
     },
     "metadata": {},
     "execution_count": 93
    }
   ],
   "source": [
    "df_bit = pd.read_csv(DATA_PATH / 'bitcoin_dataset.csv', index_col='Date' )\n",
    "print('--- Bitcoin Dataset ---')\n",
    "print('Rows containing NaN:', df_bit.isna().any(axis=1).sum())\n",
    "df_bit.isna().any(axis=0)"
   ]
  },
  {
   "cell_type": "code",
   "execution_count": 94,
   "metadata": {},
   "outputs": [
    {
     "output_type": "stream",
     "name": "stdout",
     "text": "--- Ethereum Dataset ---\nRows containing NaN: 769\n"
    },
    {
     "output_type": "execute_result",
     "data": {
      "text/plain": "UnixTimeStamp        False\neth_etherprice       False\neth_tx               False\neth_address          False\neth_supply           False\neth_marketcap        False\neth_hashrate         False\neth_difficulty       False\neth_blocks           False\neth_uncles           False\neth_blocksize        False\neth_blocktime        False\neth_gasprice         False\neth_gaslimit         False\neth_gasused          False\neth_ethersupply      False\neth_chaindatasize     True\neth_ens_register      True\ndtype: bool"
     },
     "metadata": {},
     "execution_count": 94
    }
   ],
   "source": [
    "df_eth = pd.read_csv(DATA_PATH / 'ethereum_dataset.csv', index_col='Date(UTC)')\n",
    "print('--- Ethereum Dataset ---')\n",
    "print('Rows containing NaN:', df_eth.isna().any(axis=1).sum())\n",
    "df_eth.isna().any(axis=0)"
   ]
  },
  {
   "cell_type": "markdown",
   "metadata": {},
   "source": [
    "As we can see, some of them have Nan values that they will be deleted in order to clean the data as best as possible. As we know in this case, exist two options to clean the NaN values:\n",
    "\n",
    "* Fill each gap with a determined number\n",
    "* Remove the row of this day\n",
    "\n",
    "Delete a row is not a solution for the close values, we don't prefer to remove the row because other currencies can have value for this day and we decided to fill this value changing the value to 0."
   ]
  },
  {
   "cell_type": "code",
   "execution_count": 95,
   "metadata": {},
   "outputs": [],
   "source": [
    "df_cc.fillna(0., inplace=True)"
   ]
  },
  {
   "cell_type": "markdown",
   "metadata": {},
   "source": [
    "On the `bitcoin_dataset.csv` and `ethereum_dataset.csv` we can replace too these rows that contains some NaN values. As we see before the first one have around 500 NaN values, all of them into one column, if we remove them we will not have many values to extract some results in the future. The second one, have around 800 NaN values and also we will not remove these rows because we prefer to keep data. "
   ]
  },
  {
   "cell_type": "code",
   "execution_count": 96,
   "metadata": {},
   "outputs": [],
   "source": [
    "df_bit.fillna(0., inplace=True)\n",
    "df_eth.fillna(0., inplace=True)"
   ]
  },
  {
   "cell_type": "markdown",
   "metadata": {},
   "source": [
    "Finally, we only save the data into a new csv file that we will save into the processed data directory defined in the previous steps."
   ]
  },
  {
   "cell_type": "code",
   "execution_count": 97,
   "metadata": {},
   "outputs": [],
   "source": [
    "df_cc.to_csv(PROCESSED_DATA_PATH / f'cryptocurrency_close_values.csv')\n",
    "df_bit.to_csv(PROCESSED_DATA_PATH / f'bitcoin_dataset.csv')\n",
    "df_eth.to_csv(PROCESSED_DATA_PATH / f'ethereum_dataset.csv')"
   ]
  }
 ],
 "metadata": {
  "language_info": {
   "codemirror_mode": {
    "name": "ipython",
    "version": 3
   },
   "file_extension": ".py",
   "mimetype": "text/x-python",
   "name": "python",
   "nbconvert_exporter": "python",
   "pygments_lexer": "ipython3",
   "version": "3.8.2-final"
  },
  "orig_nbformat": 2,
  "kernelspec": {
   "name": "python3",
   "display_name": "Python 3"
  }
 },
 "nbformat": 4,
 "nbformat_minor": 2
}