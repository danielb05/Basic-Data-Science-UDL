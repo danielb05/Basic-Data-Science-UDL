{
 "cells": [
  {
   "cell_type": "markdown",
   "metadata": {},
   "source": [
    "# Reading Cryptocurrency Dataset\n",
    "\n",
    "The dataset has one csv file for each currency. Price history is available on a daily basis from April 28, 2013. This dataset has the historical price information of some of the top crypto currencies by market capitalization. The currencies included are:\n",
    "* Bitcoin\n",
    "* Ethereum\n",
    "* Ripple\n",
    "* Bitcoin cash\n",
    "* Bitconnect\n",
    "* Dash\n",
    "* Ethereum Classic\n",
    "* Iota\n",
    "* Litecoin\n",
    "* Monero\n",
    "* Nem\n",
    "* Neo\n",
    "* Numeraire\n",
    "* Stratis\n",
    "* Waves\n",
    "\n",
    "Where each one is composed by:\n",
    "* Date: date of observation\n",
    "* Open: Opening price on the given day\n",
    "* High: Highest price on the given day\n",
    "* Low: Lowest price on the given day\n",
    "* Close: Closing price on the given day\n",
    "* Volume: Volume of transactions on the given day\n",
    "* Market Cap: Market capitalization in USD\n",
    "\n",
    "There are 2 more datasets (Bitcoin Dataset and Ethereum Dataset) that they have different columns then the others."
   ]
  },
  {
   "cell_type": "markdown",
   "metadata": {},
   "source": [
    "## Notebook Technologies\n",
    "\n",
    "To read each CSV file we are going to make use of a single library named `pandas` \\[1\\].\n",
    "\n",
    "`pandas` is an Open Source Python package that provides fast, flexible and expressive data structres specilly thougth to handle tabular data such as CSV files, SQL Tables, etc."
   ]
  },
  {
   "cell_type": "markdown",
   "metadata": {},
   "source": [
    "## Loading the data"
   ]
  },
  {
   "cell_type": "code",
   "execution_count": 11,
   "metadata": {},
   "outputs": [],
   "source": [
    "from pathlib import Path\n",
    "\n",
    "import pandas as pd"
   ]
  },
  {
   "cell_type": "code",
   "execution_count": 6,
   "metadata": {},
   "outputs": [],
   "source": [
    "DATA_PATH = Path('../../data')"
   ]
  },
  {
   "cell_type": "markdown",
   "metadata": {},
   "source": [
    "In order to open each csv file we used the `read_csv` function provided by `pandas` for each file in `cryptocurrency` folder."
   ]
  },
  {
   "cell_type": "code",
   "execution_count": 31,
   "metadata": {},
   "outputs": [],
   "source": [
    "df = pd.read_csv(DATA_PATH / 'raw' / 'cryptocurrencypricehistory' / 'bitcoin_cash_price.csv')\n",
    "df1 = pd.read_csv(DATA_PATH / 'raw' / 'cryptocurrencypricehistory' / 'bitcoin_dataset.csv')\n",
    "df2 = pd.read_csv(DATA_PATH / 'raw' / 'cryptocurrencypricehistory' / 'bitcoin_price.csv')\n",
    "df3 = pd.read_csv(DATA_PATH / 'raw' / 'cryptocurrencypricehistory' / 'bitconnect_price.csv')\n",
    "df4 = pd.read_csv(DATA_PATH / 'raw' / 'cryptocurrencypricehistory' / 'dash_price.csv')\n",
    "df5 = pd.read_csv(DATA_PATH / 'raw' / 'cryptocurrencypricehistory' / 'ethereum_classic_price.csv')\n",
    "df6 = pd.read_csv(DATA_PATH / 'raw' / 'cryptocurrencypricehistory' / 'ethereum_dataset.csv')\n",
    "df7 = pd.read_csv(DATA_PATH / 'raw' / 'cryptocurrencypricehistory' / 'ethereum_price.csv')\n",
    "df8 = pd.read_csv(DATA_PATH / 'raw' / 'cryptocurrencypricehistory' / 'iota_price.csv')\n",
    "df9 = pd.read_csv(DATA_PATH / 'raw' / 'cryptocurrencypricehistory' / 'litecoin_price.csv')\n",
    "df10 = pd.read_csv(DATA_PATH / 'raw' / 'cryptocurrencypricehistory' / 'monero_price.csv')\n",
    "df11 = pd.read_csv(DATA_PATH / 'raw' / 'cryptocurrencypricehistory' / 'nem_price.csv')\n",
    "df12 = pd.read_csv(DATA_PATH / 'raw' / 'cryptocurrencypricehistory' / 'neo_price.csv')\n",
    "df13 = pd.read_csv(DATA_PATH / 'raw' / 'cryptocurrencypricehistory' / 'numeraire_price.csv')\n",
    "df14 = pd.read_csv(DATA_PATH / 'raw' / 'cryptocurrencypricehistory' / 'omisego_price.csv')\n",
    "df15 = pd.read_csv(DATA_PATH / 'raw' / 'cryptocurrencypricehistory' / 'qtum_price.csv')\n",
    "df16 = pd.read_csv(DATA_PATH / 'raw' / 'cryptocurrencypricehistory' / 'ripple_price.csv')\n",
    "df17 = pd.read_csv(DATA_PATH / 'raw' / 'cryptocurrencypricehistory' / 'stratis_price.csv')\n",
    "df18 = pd.read_csv(DATA_PATH / 'raw' / 'cryptocurrencypricehistory' / 'waves_price.csv')"
   ]
  },
  {
   "cell_type": "markdown",
   "metadata": {},
   "source": [
    "For each table we will see two methods to view the data of each one: The first one, the method `head` what is provided by `pandas.DataFrame` which allow us to preview the first $n$ rows of our tabular data. The second one, the `sample` method, that contrary to the head method, it randomly samples $n$ elements."
   ]
  },
  {
   "cell_type": "markdown",
   "metadata": {},
   "source": [
    "### Bitcoin_cash_price.csv"
   ]
  },
  {
   "cell_type": "code",
   "execution_count": 33,
   "metadata": {},
   "outputs": [
    {
     "output_type": "execute_result",
     "data": {
      "text/plain": "           Date    Open    High     Low   Close       Volume      Market Cap\n0  Sep 05, 2017  514.90  550.95  458.78  541.71  338,978,000   8,527,100,000\n1  Sep 04, 2017  608.26  608.26  500.75  517.24  328,957,000  10,072,200,000\n2  Sep 03, 2017  578.27  617.41  563.59  607.43  344,862,000   9,574,520,000\n3  Sep 02, 2017  621.96  642.05  560.58  575.90  350,478,000  10,297,000,000\n4  Sep 01, 2017  588.40  645.52  586.73  622.17  393,839,000   9,740,460,000",
      "text/html": "<div>\n<style scoped>\n    .dataframe tbody tr th:only-of-type {\n        vertical-align: middle;\n    }\n\n    .dataframe tbody tr th {\n        vertical-align: top;\n    }\n\n    .dataframe thead th {\n        text-align: right;\n    }\n</style>\n<table border=\"1\" class=\"dataframe\">\n  <thead>\n    <tr style=\"text-align: right;\">\n      <th></th>\n      <th>Date</th>\n      <th>Open</th>\n      <th>High</th>\n      <th>Low</th>\n      <th>Close</th>\n      <th>Volume</th>\n      <th>Market Cap</th>\n    </tr>\n  </thead>\n  <tbody>\n    <tr>\n      <th>0</th>\n      <td>Sep 05, 2017</td>\n      <td>514.90</td>\n      <td>550.95</td>\n      <td>458.78</td>\n      <td>541.71</td>\n      <td>338,978,000</td>\n      <td>8,527,100,000</td>\n    </tr>\n    <tr>\n      <th>1</th>\n      <td>Sep 04, 2017</td>\n      <td>608.26</td>\n      <td>608.26</td>\n      <td>500.75</td>\n      <td>517.24</td>\n      <td>328,957,000</td>\n      <td>10,072,200,000</td>\n    </tr>\n    <tr>\n      <th>2</th>\n      <td>Sep 03, 2017</td>\n      <td>578.27</td>\n      <td>617.41</td>\n      <td>563.59</td>\n      <td>607.43</td>\n      <td>344,862,000</td>\n      <td>9,574,520,000</td>\n    </tr>\n    <tr>\n      <th>3</th>\n      <td>Sep 02, 2017</td>\n      <td>621.96</td>\n      <td>642.05</td>\n      <td>560.58</td>\n      <td>575.90</td>\n      <td>350,478,000</td>\n      <td>10,297,000,000</td>\n    </tr>\n    <tr>\n      <th>4</th>\n      <td>Sep 01, 2017</td>\n      <td>588.40</td>\n      <td>645.52</td>\n      <td>586.73</td>\n      <td>622.17</td>\n      <td>393,839,000</td>\n      <td>9,740,460,000</td>\n    </tr>\n  </tbody>\n</table>\n</div>"
     },
     "metadata": {},
     "execution_count": 33
    }
   ],
   "source": [
    "df.head()"
   ]
  },
  {
   "cell_type": "code",
   "execution_count": 35,
   "metadata": {},
   "outputs": [
    {
     "output_type": "execute_result",
     "data": {
      "text/plain": "            Date    Open     High     Low   Close         Volume  \\\n1   Sep 04, 2017  608.26   608.26  500.75  517.24    328,957,000   \n17  Aug 19, 2017  697.04  1091.97  625.16  754.56  3,196,230,000   \n40  Jul 27, 2017  417.10   460.97  367.78  385.48        533,207   \n11  Aug 25, 2017  627.06   665.41  624.30  641.05    348,632,000   \n9   Aug 27, 2017  625.89   654.87  589.63  620.90    402,718,000   \n\n        Market Cap  \n1   10,072,200,000  \n17  11,498,100,000  \n40               -  \n11  10,365,600,000  \n9   10,357,000,000  ",
      "text/html": "<div>\n<style scoped>\n    .dataframe tbody tr th:only-of-type {\n        vertical-align: middle;\n    }\n\n    .dataframe tbody tr th {\n        vertical-align: top;\n    }\n\n    .dataframe thead th {\n        text-align: right;\n    }\n</style>\n<table border=\"1\" class=\"dataframe\">\n  <thead>\n    <tr style=\"text-align: right;\">\n      <th></th>\n      <th>Date</th>\n      <th>Open</th>\n      <th>High</th>\n      <th>Low</th>\n      <th>Close</th>\n      <th>Volume</th>\n      <th>Market Cap</th>\n    </tr>\n  </thead>\n  <tbody>\n    <tr>\n      <th>1</th>\n      <td>Sep 04, 2017</td>\n      <td>608.26</td>\n      <td>608.26</td>\n      <td>500.75</td>\n      <td>517.24</td>\n      <td>328,957,000</td>\n      <td>10,072,200,000</td>\n    </tr>\n    <tr>\n      <th>17</th>\n      <td>Aug 19, 2017</td>\n      <td>697.04</td>\n      <td>1091.97</td>\n      <td>625.16</td>\n      <td>754.56</td>\n      <td>3,196,230,000</td>\n      <td>11,498,100,000</td>\n    </tr>\n    <tr>\n      <th>40</th>\n      <td>Jul 27, 2017</td>\n      <td>417.10</td>\n      <td>460.97</td>\n      <td>367.78</td>\n      <td>385.48</td>\n      <td>533,207</td>\n      <td>-</td>\n    </tr>\n    <tr>\n      <th>11</th>\n      <td>Aug 25, 2017</td>\n      <td>627.06</td>\n      <td>665.41</td>\n      <td>624.30</td>\n      <td>641.05</td>\n      <td>348,632,000</td>\n      <td>10,365,600,000</td>\n    </tr>\n    <tr>\n      <th>9</th>\n      <td>Aug 27, 2017</td>\n      <td>625.89</td>\n      <td>654.87</td>\n      <td>589.63</td>\n      <td>620.90</td>\n      <td>402,718,000</td>\n      <td>10,357,000,000</td>\n    </tr>\n  </tbody>\n</table>\n</div>"
     },
     "metadata": {},
     "execution_count": 35
    }
   ],
   "source": [
    "df.sample(5)"
   ]
  },
  {
   "cell_type": "markdown",
   "metadata": {},
   "source": [
    "### bitcoin_dataset.csv"
   ]
  },
  {
   "cell_type": "code",
   "execution_count": 37,
   "metadata": {},
   "outputs": [
    {
     "output_type": "execute_result",
     "data": {
      "text/plain": "                  Date  btc_market_price  btc_total_bitcoins  btc_market_cap  \\\n0  2009-01-03 00:00:00               0.0                50.0             0.0   \n1  2009-01-05 00:00:00               0.0                50.0             0.0   \n2  2009-01-07 00:00:00               0.0                50.0             0.0   \n3  2009-01-09 00:00:00               0.0               750.0             0.0   \n4  2009-01-11 00:00:00               0.0              7600.0             0.0   \n\n   btc_trade_volume  btc_blocks_size  btc_avg_block_size  \\\n0               0.0              0.0            0.000285   \n1               0.0              0.0            0.000000   \n2               0.0              0.0            0.000000   \n3               0.0              0.0            0.000215   \n4               0.0              0.0            0.000215   \n\n   btc_n_orphaned_blocks  btc_n_transactions_per_block  \\\n0                    0.0                           1.0   \n1                    0.0                           1.0   \n2                    0.0                           1.0   \n3                    0.0                           1.0   \n4                    0.0                           1.0   \n\n   btc_median_confirmation_time  ...  btc_cost_per_transaction_percent  \\\n0                           0.0  ...                               0.0   \n1                           0.0  ...                               0.0   \n2                           0.0  ...                               0.0   \n3                           0.0  ...                               0.0   \n4                           0.0  ...                               0.0   \n\n   btc_cost_per_transaction  btc_n_unique_addresses  btc_n_transactions  \\\n0                       0.0                     1.0                 1.0   \n1                       0.0                     0.0                 0.0   \n2                       0.0                     0.0                 0.0   \n3                       0.0                    14.0                14.0   \n4                       0.0                   106.0               106.0   \n\n   btc_n_transactions_total  btc_n_transactions_excluding_popular  \\\n0                       1.0                                   1.0   \n1                       1.0                                   0.0   \n2                       1.0                                   0.0   \n3                      15.0                                  14.0   \n4                     152.0                                 106.0   \n\n   btc_n_transactions_excluding_chains_longer_than_100  btc_output_volume  \\\n0                                                1.0                 50.0   \n1                                                0.0                  0.0   \n2                                                0.0                  0.0   \n3                                               14.0                700.0   \n4                                              106.0               5300.0   \n\n   btc_estimated_transaction_volume  btc_estimated_transaction_volume_usd  \n0                               0.0                                   0.0  \n1                               0.0                                   0.0  \n2                               0.0                                   0.0  \n3                               0.0                                   0.0  \n4                               0.0                                   0.0  \n\n[5 rows x 24 columns]",
      "text/html": "<div>\n<style scoped>\n    .dataframe tbody tr th:only-of-type {\n        vertical-align: middle;\n    }\n\n    .dataframe tbody tr th {\n        vertical-align: top;\n    }\n\n    .dataframe thead th {\n        text-align: right;\n    }\n</style>\n<table border=\"1\" class=\"dataframe\">\n  <thead>\n    <tr style=\"text-align: right;\">\n      <th></th>\n      <th>Date</th>\n      <th>btc_market_price</th>\n      <th>btc_total_bitcoins</th>\n      <th>btc_market_cap</th>\n      <th>btc_trade_volume</th>\n      <th>btc_blocks_size</th>\n      <th>btc_avg_block_size</th>\n      <th>btc_n_orphaned_blocks</th>\n      <th>btc_n_transactions_per_block</th>\n      <th>btc_median_confirmation_time</th>\n      <th>...</th>\n      <th>btc_cost_per_transaction_percent</th>\n      <th>btc_cost_per_transaction</th>\n      <th>btc_n_unique_addresses</th>\n      <th>btc_n_transactions</th>\n      <th>btc_n_transactions_total</th>\n      <th>btc_n_transactions_excluding_popular</th>\n      <th>btc_n_transactions_excluding_chains_longer_than_100</th>\n      <th>btc_output_volume</th>\n      <th>btc_estimated_transaction_volume</th>\n      <th>btc_estimated_transaction_volume_usd</th>\n    </tr>\n  </thead>\n  <tbody>\n    <tr>\n      <th>0</th>\n      <td>2009-01-03 00:00:00</td>\n      <td>0.0</td>\n      <td>50.0</td>\n      <td>0.0</td>\n      <td>0.0</td>\n      <td>0.0</td>\n      <td>0.000285</td>\n      <td>0.0</td>\n      <td>1.0</td>\n      <td>0.0</td>\n      <td>...</td>\n      <td>0.0</td>\n      <td>0.0</td>\n      <td>1.0</td>\n      <td>1.0</td>\n      <td>1.0</td>\n      <td>1.0</td>\n      <td>1.0</td>\n      <td>50.0</td>\n      <td>0.0</td>\n      <td>0.0</td>\n    </tr>\n    <tr>\n      <th>1</th>\n      <td>2009-01-05 00:00:00</td>\n      <td>0.0</td>\n      <td>50.0</td>\n      <td>0.0</td>\n      <td>0.0</td>\n      <td>0.0</td>\n      <td>0.000000</td>\n      <td>0.0</td>\n      <td>1.0</td>\n      <td>0.0</td>\n      <td>...</td>\n      <td>0.0</td>\n      <td>0.0</td>\n      <td>0.0</td>\n      <td>0.0</td>\n      <td>1.0</td>\n      <td>0.0</td>\n      <td>0.0</td>\n      <td>0.0</td>\n      <td>0.0</td>\n      <td>0.0</td>\n    </tr>\n    <tr>\n      <th>2</th>\n      <td>2009-01-07 00:00:00</td>\n      <td>0.0</td>\n      <td>50.0</td>\n      <td>0.0</td>\n      <td>0.0</td>\n      <td>0.0</td>\n      <td>0.000000</td>\n      <td>0.0</td>\n      <td>1.0</td>\n      <td>0.0</td>\n      <td>...</td>\n      <td>0.0</td>\n      <td>0.0</td>\n      <td>0.0</td>\n      <td>0.0</td>\n      <td>1.0</td>\n      <td>0.0</td>\n      <td>0.0</td>\n      <td>0.0</td>\n      <td>0.0</td>\n      <td>0.0</td>\n    </tr>\n    <tr>\n      <th>3</th>\n      <td>2009-01-09 00:00:00</td>\n      <td>0.0</td>\n      <td>750.0</td>\n      <td>0.0</td>\n      <td>0.0</td>\n      <td>0.0</td>\n      <td>0.000215</td>\n      <td>0.0</td>\n      <td>1.0</td>\n      <td>0.0</td>\n      <td>...</td>\n      <td>0.0</td>\n      <td>0.0</td>\n      <td>14.0</td>\n      <td>14.0</td>\n      <td>15.0</td>\n      <td>14.0</td>\n      <td>14.0</td>\n      <td>700.0</td>\n      <td>0.0</td>\n      <td>0.0</td>\n    </tr>\n    <tr>\n      <th>4</th>\n      <td>2009-01-11 00:00:00</td>\n      <td>0.0</td>\n      <td>7600.0</td>\n      <td>0.0</td>\n      <td>0.0</td>\n      <td>0.0</td>\n      <td>0.000215</td>\n      <td>0.0</td>\n      <td>1.0</td>\n      <td>0.0</td>\n      <td>...</td>\n      <td>0.0</td>\n      <td>0.0</td>\n      <td>106.0</td>\n      <td>106.0</td>\n      <td>152.0</td>\n      <td>106.0</td>\n      <td>106.0</td>\n      <td>5300.0</td>\n      <td>0.0</td>\n      <td>0.0</td>\n    </tr>\n  </tbody>\n</table>\n<p>5 rows × 24 columns</p>\n</div>"
     },
     "metadata": {},
     "execution_count": 37
    }
   ],
   "source": [
    "df1.head()"
   ]
  },
  {
   "cell_type": "code",
   "execution_count": 39,
   "metadata": {},
   "outputs": [
    {
     "output_type": "execute_result",
     "data": {
      "text/plain": "                     Date  btc_market_price  btc_total_bitcoins  \\\n1099  2015-01-10 00:00:00            278.00          13709500.0   \n1033  2014-08-31 00:00:00            477.98          13212150.0   \n128   2009-09-16 00:00:00              0.00           1150200.0   \n909   2013-12-26 00:00:00            734.42          12177500.0   \n1082  2014-12-07 00:00:00            375.73          13582350.0   \n\n      btc_market_cap  btc_trade_volume  btc_blocks_size  btc_avg_block_size  \\\n1099    3.811241e+09               NaN          28293.0            0.418210   \n1033    6.315143e+09      3.548831e+07          22210.0            0.177277   \n128     0.000000e+00      0.000000e+00              0.0            0.000220   \n909     8.943400e+09      6.373458e+07          13328.0            0.155150   \n1082    5.103296e+09      5.588929e+06          26618.0            0.366259   \n\n      btc_n_orphaned_blocks  btc_n_transactions_per_block  \\\n1099                    1.0                         833.0   \n1033                    3.0                         449.0   \n128                     0.0                           1.0   \n909                     0.0                         309.0   \n1082                    5.0                         564.0   \n\n      btc_median_confirmation_time  ...  btc_cost_per_transaction_percent  \\\n1099                      8.616667  ...                          1.424347   \n1033                      6.250000  ...                          7.077528   \n128                       0.000000  ...                     290000.000000   \n909                       6.616667  ...                          4.911261   \n1082                      9.466667  ...                          2.784467   \n\n      btc_cost_per_transaction  btc_n_unique_addresses  btc_n_transactions  \\\n1099                  9.293357                251092.0            105895.0   \n1033                 39.069711                172302.0             59751.0   \n128                   0.000000                    59.0                59.0   \n909                  67.825180                 97504.0             48575.0   \n1082                 14.862699                232300.0             77357.0   \n\n      btc_n_transactions_total  btc_n_transactions_excluding_popular  \\\n1099                56346553.0                               96782.0   \n1033                45714136.0                               56915.0   \n128                    23151.0                                  59.0   \n909                 29944203.0                               41892.0   \n1082                53399509.0                               72640.0   \n\n      btc_n_transactions_excluding_chains_longer_than_100  btc_output_volume  \\\n1099                                            43989.0         1.161366e+06   \n1033                                            36098.0         5.456599e+05   \n128                                                59.0         2.901000e+03   \n909                                             28105.0         5.538910e+05   \n1082                                            39926.0         8.047171e+05   \n\n      btc_estimated_transaction_volume  btc_estimated_transaction_volume_usd  \n1099                          248535.0                            69092710.0  \n1033                           69007.0                            32984034.0  \n128                                1.0                                   0.0  \n909                            91341.0                            67082728.0  \n1082                          109895.0                            41290985.0  \n\n[5 rows x 24 columns]",
      "text/html": "<div>\n<style scoped>\n    .dataframe tbody tr th:only-of-type {\n        vertical-align: middle;\n    }\n\n    .dataframe tbody tr th {\n        vertical-align: top;\n    }\n\n    .dataframe thead th {\n        text-align: right;\n    }\n</style>\n<table border=\"1\" class=\"dataframe\">\n  <thead>\n    <tr style=\"text-align: right;\">\n      <th></th>\n      <th>Date</th>\n      <th>btc_market_price</th>\n      <th>btc_total_bitcoins</th>\n      <th>btc_market_cap</th>\n      <th>btc_trade_volume</th>\n      <th>btc_blocks_size</th>\n      <th>btc_avg_block_size</th>\n      <th>btc_n_orphaned_blocks</th>\n      <th>btc_n_transactions_per_block</th>\n      <th>btc_median_confirmation_time</th>\n      <th>...</th>\n      <th>btc_cost_per_transaction_percent</th>\n      <th>btc_cost_per_transaction</th>\n      <th>btc_n_unique_addresses</th>\n      <th>btc_n_transactions</th>\n      <th>btc_n_transactions_total</th>\n      <th>btc_n_transactions_excluding_popular</th>\n      <th>btc_n_transactions_excluding_chains_longer_than_100</th>\n      <th>btc_output_volume</th>\n      <th>btc_estimated_transaction_volume</th>\n      <th>btc_estimated_transaction_volume_usd</th>\n    </tr>\n  </thead>\n  <tbody>\n    <tr>\n      <th>1099</th>\n      <td>2015-01-10 00:00:00</td>\n      <td>278.00</td>\n      <td>13709500.0</td>\n      <td>3.811241e+09</td>\n      <td>NaN</td>\n      <td>28293.0</td>\n      <td>0.418210</td>\n      <td>1.0</td>\n      <td>833.0</td>\n      <td>8.616667</td>\n      <td>...</td>\n      <td>1.424347</td>\n      <td>9.293357</td>\n      <td>251092.0</td>\n      <td>105895.0</td>\n      <td>56346553.0</td>\n      <td>96782.0</td>\n      <td>43989.0</td>\n      <td>1.161366e+06</td>\n      <td>248535.0</td>\n      <td>69092710.0</td>\n    </tr>\n    <tr>\n      <th>1033</th>\n      <td>2014-08-31 00:00:00</td>\n      <td>477.98</td>\n      <td>13212150.0</td>\n      <td>6.315143e+09</td>\n      <td>3.548831e+07</td>\n      <td>22210.0</td>\n      <td>0.177277</td>\n      <td>3.0</td>\n      <td>449.0</td>\n      <td>6.250000</td>\n      <td>...</td>\n      <td>7.077528</td>\n      <td>39.069711</td>\n      <td>172302.0</td>\n      <td>59751.0</td>\n      <td>45714136.0</td>\n      <td>56915.0</td>\n      <td>36098.0</td>\n      <td>5.456599e+05</td>\n      <td>69007.0</td>\n      <td>32984034.0</td>\n    </tr>\n    <tr>\n      <th>128</th>\n      <td>2009-09-16 00:00:00</td>\n      <td>0.00</td>\n      <td>1150200.0</td>\n      <td>0.000000e+00</td>\n      <td>0.000000e+00</td>\n      <td>0.0</td>\n      <td>0.000220</td>\n      <td>0.0</td>\n      <td>1.0</td>\n      <td>0.000000</td>\n      <td>...</td>\n      <td>290000.000000</td>\n      <td>0.000000</td>\n      <td>59.0</td>\n      <td>59.0</td>\n      <td>23151.0</td>\n      <td>59.0</td>\n      <td>59.0</td>\n      <td>2.901000e+03</td>\n      <td>1.0</td>\n      <td>0.0</td>\n    </tr>\n    <tr>\n      <th>909</th>\n      <td>2013-12-26 00:00:00</td>\n      <td>734.42</td>\n      <td>12177500.0</td>\n      <td>8.943400e+09</td>\n      <td>6.373458e+07</td>\n      <td>13328.0</td>\n      <td>0.155150</td>\n      <td>0.0</td>\n      <td>309.0</td>\n      <td>6.616667</td>\n      <td>...</td>\n      <td>4.911261</td>\n      <td>67.825180</td>\n      <td>97504.0</td>\n      <td>48575.0</td>\n      <td>29944203.0</td>\n      <td>41892.0</td>\n      <td>28105.0</td>\n      <td>5.538910e+05</td>\n      <td>91341.0</td>\n      <td>67082728.0</td>\n    </tr>\n    <tr>\n      <th>1082</th>\n      <td>2014-12-07 00:00:00</td>\n      <td>375.73</td>\n      <td>13582350.0</td>\n      <td>5.103296e+09</td>\n      <td>5.588929e+06</td>\n      <td>26618.0</td>\n      <td>0.366259</td>\n      <td>5.0</td>\n      <td>564.0</td>\n      <td>9.466667</td>\n      <td>...</td>\n      <td>2.784467</td>\n      <td>14.862699</td>\n      <td>232300.0</td>\n      <td>77357.0</td>\n      <td>53399509.0</td>\n      <td>72640.0</td>\n      <td>39926.0</td>\n      <td>8.047171e+05</td>\n      <td>109895.0</td>\n      <td>41290985.0</td>\n    </tr>\n  </tbody>\n</table>\n<p>5 rows × 24 columns</p>\n</div>"
     },
     "metadata": {},
     "execution_count": 39
    }
   ],
   "source": [
    "df1.sample(5)"
   ]
  },
  {
   "cell_type": "markdown",
   "metadata": {},
   "source": [
    "### bitcoin_price.csv"
   ]
  },
  {
   "cell_type": "code",
   "execution_count": 41,
   "metadata": {},
   "outputs": [
    {
     "output_type": "execute_result",
     "data": {
      "text/plain": "           Date     Open     High      Low    Close      Volume   Market Cap\n0  Sep 05, 2017  4228.29  4427.84  3998.11  4376.53  2697970000  69954400000\n1  Sep 04, 2017  4591.63  4591.63  4108.40  4236.31  2987330000  75955500000\n2  Sep 03, 2017  4585.27  4714.08  4417.59  4582.96  1933190000  75841700000\n3  Sep 02, 2017  4901.42  4975.04  4469.24  4578.77  2722140000  81060600000\n4  Sep 01, 2017  4701.76  4892.01  4678.53  4892.01  2599080000  77748400000",
      "text/html": "<div>\n<style scoped>\n    .dataframe tbody tr th:only-of-type {\n        vertical-align: middle;\n    }\n\n    .dataframe tbody tr th {\n        vertical-align: top;\n    }\n\n    .dataframe thead th {\n        text-align: right;\n    }\n</style>\n<table border=\"1\" class=\"dataframe\">\n  <thead>\n    <tr style=\"text-align: right;\">\n      <th></th>\n      <th>Date</th>\n      <th>Open</th>\n      <th>High</th>\n      <th>Low</th>\n      <th>Close</th>\n      <th>Volume</th>\n      <th>Market Cap</th>\n    </tr>\n  </thead>\n  <tbody>\n    <tr>\n      <th>0</th>\n      <td>Sep 05, 2017</td>\n      <td>4228.29</td>\n      <td>4427.84</td>\n      <td>3998.11</td>\n      <td>4376.53</td>\n      <td>2697970000</td>\n      <td>69954400000</td>\n    </tr>\n    <tr>\n      <th>1</th>\n      <td>Sep 04, 2017</td>\n      <td>4591.63</td>\n      <td>4591.63</td>\n      <td>4108.40</td>\n      <td>4236.31</td>\n      <td>2987330000</td>\n      <td>75955500000</td>\n    </tr>\n    <tr>\n      <th>2</th>\n      <td>Sep 03, 2017</td>\n      <td>4585.27</td>\n      <td>4714.08</td>\n      <td>4417.59</td>\n      <td>4582.96</td>\n      <td>1933190000</td>\n      <td>75841700000</td>\n    </tr>\n    <tr>\n      <th>3</th>\n      <td>Sep 02, 2017</td>\n      <td>4901.42</td>\n      <td>4975.04</td>\n      <td>4469.24</td>\n      <td>4578.77</td>\n      <td>2722140000</td>\n      <td>81060600000</td>\n    </tr>\n    <tr>\n      <th>4</th>\n      <td>Sep 01, 2017</td>\n      <td>4701.76</td>\n      <td>4892.01</td>\n      <td>4678.53</td>\n      <td>4892.01</td>\n      <td>2599080000</td>\n      <td>77748400000</td>\n    </tr>\n  </tbody>\n</table>\n</div>"
     },
     "metadata": {},
     "execution_count": 41
    }
   ],
   "source": [
    "df2.head()"
   ]
  },
  {
   "cell_type": "code",
   "execution_count": 43,
   "metadata": {},
   "outputs": [
    {
     "output_type": "execute_result",
     "data": {
      "text/plain": "              Date     Open     High      Low    Close     Volume   Market Cap\n135   Apr 23, 2017  1231.92  1232.20  1203.94  1207.21  258951000  20066200000\n1447  Sep 19, 2013   131.37   131.77   128.45   129.65          -   1539430000\n184   Mar 05, 2017  1254.29  1267.29  1238.06  1267.12  134127000  20316000000\n465   May 28, 2016   473.03   533.47   472.70   530.04  181199000   7375780000\n507   Apr 16, 2016   429.57   432.63   428.98   430.57   39392800   6631310000",
      "text/html": "<div>\n<style scoped>\n    .dataframe tbody tr th:only-of-type {\n        vertical-align: middle;\n    }\n\n    .dataframe tbody tr th {\n        vertical-align: top;\n    }\n\n    .dataframe thead th {\n        text-align: right;\n    }\n</style>\n<table border=\"1\" class=\"dataframe\">\n  <thead>\n    <tr style=\"text-align: right;\">\n      <th></th>\n      <th>Date</th>\n      <th>Open</th>\n      <th>High</th>\n      <th>Low</th>\n      <th>Close</th>\n      <th>Volume</th>\n      <th>Market Cap</th>\n    </tr>\n  </thead>\n  <tbody>\n    <tr>\n      <th>135</th>\n      <td>Apr 23, 2017</td>\n      <td>1231.92</td>\n      <td>1232.20</td>\n      <td>1203.94</td>\n      <td>1207.21</td>\n      <td>258951000</td>\n      <td>20066200000</td>\n    </tr>\n    <tr>\n      <th>1447</th>\n      <td>Sep 19, 2013</td>\n      <td>131.37</td>\n      <td>131.77</td>\n      <td>128.45</td>\n      <td>129.65</td>\n      <td>-</td>\n      <td>1539430000</td>\n    </tr>\n    <tr>\n      <th>184</th>\n      <td>Mar 05, 2017</td>\n      <td>1254.29</td>\n      <td>1267.29</td>\n      <td>1238.06</td>\n      <td>1267.12</td>\n      <td>134127000</td>\n      <td>20316000000</td>\n    </tr>\n    <tr>\n      <th>465</th>\n      <td>May 28, 2016</td>\n      <td>473.03</td>\n      <td>533.47</td>\n      <td>472.70</td>\n      <td>530.04</td>\n      <td>181199000</td>\n      <td>7375780000</td>\n    </tr>\n    <tr>\n      <th>507</th>\n      <td>Apr 16, 2016</td>\n      <td>429.57</td>\n      <td>432.63</td>\n      <td>428.98</td>\n      <td>430.57</td>\n      <td>39392800</td>\n      <td>6631310000</td>\n    </tr>\n  </tbody>\n</table>\n</div>"
     },
     "metadata": {},
     "execution_count": 43
    }
   ],
   "source": [
    "df2.sample(5)"
   ]
  },
  {
   "cell_type": "markdown",
   "metadata": {},
   "source": [
    "### bitconnect_price.csv"
   ]
  },
  {
   "cell_type": "code",
   "execution_count": 45,
   "metadata": {},
   "outputs": [
    {
     "output_type": "execute_result",
     "data": {
      "text/plain": "           Date    Open    High     Low   Close      Volume   Market Cap\n0  Sep 05, 2017  114.74  131.57  108.93  129.42   8,537,600  756,793,000\n1  Sep 04, 2017  128.26  129.55  110.68  114.13  30,395,600  845,031,000\n2  Sep 03, 2017  131.71  135.06  125.87  130.99   5,244,490  866,869,000\n3  Sep 02, 2017  141.11  142.80  128.00  131.33   5,056,030  926,918,000\n4  Sep 01, 2017  135.66  140.97  133.47  140.97   7,854,700  890,229,000",
      "text/html": "<div>\n<style scoped>\n    .dataframe tbody tr th:only-of-type {\n        vertical-align: middle;\n    }\n\n    .dataframe tbody tr th {\n        vertical-align: top;\n    }\n\n    .dataframe thead th {\n        text-align: right;\n    }\n</style>\n<table border=\"1\" class=\"dataframe\">\n  <thead>\n    <tr style=\"text-align: right;\">\n      <th></th>\n      <th>Date</th>\n      <th>Open</th>\n      <th>High</th>\n      <th>Low</th>\n      <th>Close</th>\n      <th>Volume</th>\n      <th>Market Cap</th>\n    </tr>\n  </thead>\n  <tbody>\n    <tr>\n      <th>0</th>\n      <td>Sep 05, 2017</td>\n      <td>114.74</td>\n      <td>131.57</td>\n      <td>108.93</td>\n      <td>129.42</td>\n      <td>8,537,600</td>\n      <td>756,793,000</td>\n    </tr>\n    <tr>\n      <th>1</th>\n      <td>Sep 04, 2017</td>\n      <td>128.26</td>\n      <td>129.55</td>\n      <td>110.68</td>\n      <td>114.13</td>\n      <td>30,395,600</td>\n      <td>845,031,000</td>\n    </tr>\n    <tr>\n      <th>2</th>\n      <td>Sep 03, 2017</td>\n      <td>131.71</td>\n      <td>135.06</td>\n      <td>125.87</td>\n      <td>130.99</td>\n      <td>5,244,490</td>\n      <td>866,869,000</td>\n    </tr>\n    <tr>\n      <th>3</th>\n      <td>Sep 02, 2017</td>\n      <td>141.11</td>\n      <td>142.80</td>\n      <td>128.00</td>\n      <td>131.33</td>\n      <td>5,056,030</td>\n      <td>926,918,000</td>\n    </tr>\n    <tr>\n      <th>4</th>\n      <td>Sep 01, 2017</td>\n      <td>135.66</td>\n      <td>140.97</td>\n      <td>133.47</td>\n      <td>140.97</td>\n      <td>7,854,700</td>\n      <td>890,229,000</td>\n    </tr>\n  </tbody>\n</table>\n</div>"
     },
     "metadata": {},
     "execution_count": 45
    }
   ],
   "source": [
    "df3.head()"
   ]
  },
  {
   "cell_type": "code",
   "execution_count": 47,
   "metadata": {},
   "outputs": [
    {
     "output_type": "execute_result",
     "data": {
      "text/plain": "             Date       Open       High        Low      Close     Volume  \\\n58   Jul 09, 2017  60.220000  60.450000  58.610000  58.960000  1,992,460   \n223  Jan 25, 2017   0.142849   0.313312   0.142811   0.154217     14,945   \n103  May 25, 2017  13.570000  23.370000  11.980000  15.670000  6,153,930   \n53   Jul 14, 2017  57.600000  58.570000  53.940000  55.530000  3,445,520   \n106  May 22, 2017  12.600000  13.320000  11.750000  12.280000    834,180   \n\n      Market Cap  \n58   412,952,000  \n223      716,763  \n103   86,953,600  \n53   398,102,000  \n106   80,620,000  ",
      "text/html": "<div>\n<style scoped>\n    .dataframe tbody tr th:only-of-type {\n        vertical-align: middle;\n    }\n\n    .dataframe tbody tr th {\n        vertical-align: top;\n    }\n\n    .dataframe thead th {\n        text-align: right;\n    }\n</style>\n<table border=\"1\" class=\"dataframe\">\n  <thead>\n    <tr style=\"text-align: right;\">\n      <th></th>\n      <th>Date</th>\n      <th>Open</th>\n      <th>High</th>\n      <th>Low</th>\n      <th>Close</th>\n      <th>Volume</th>\n      <th>Market Cap</th>\n    </tr>\n  </thead>\n  <tbody>\n    <tr>\n      <th>58</th>\n      <td>Jul 09, 2017</td>\n      <td>60.220000</td>\n      <td>60.450000</td>\n      <td>58.610000</td>\n      <td>58.960000</td>\n      <td>1,992,460</td>\n      <td>412,952,000</td>\n    </tr>\n    <tr>\n      <th>223</th>\n      <td>Jan 25, 2017</td>\n      <td>0.142849</td>\n      <td>0.313312</td>\n      <td>0.142811</td>\n      <td>0.154217</td>\n      <td>14,945</td>\n      <td>716,763</td>\n    </tr>\n    <tr>\n      <th>103</th>\n      <td>May 25, 2017</td>\n      <td>13.570000</td>\n      <td>23.370000</td>\n      <td>11.980000</td>\n      <td>15.670000</td>\n      <td>6,153,930</td>\n      <td>86,953,600</td>\n    </tr>\n    <tr>\n      <th>53</th>\n      <td>Jul 14, 2017</td>\n      <td>57.600000</td>\n      <td>58.570000</td>\n      <td>53.940000</td>\n      <td>55.530000</td>\n      <td>3,445,520</td>\n      <td>398,102,000</td>\n    </tr>\n    <tr>\n      <th>106</th>\n      <td>May 22, 2017</td>\n      <td>12.600000</td>\n      <td>13.320000</td>\n      <td>11.750000</td>\n      <td>12.280000</td>\n      <td>834,180</td>\n      <td>80,620,000</td>\n    </tr>\n  </tbody>\n</table>\n</div>"
     },
     "metadata": {},
     "execution_count": 47
    }
   ],
   "source": [
    "df3.sample(5)"
   ]
  },
  {
   "cell_type": "markdown",
   "metadata": {},
   "source": [
    "### dash_price.csv"
   ]
  },
  {
   "cell_type": "code",
   "execution_count": 49,
   "metadata": {},
   "outputs": [
    {
     "output_type": "execute_result",
     "data": {
      "text/plain": "           Date    Open    High     Low   Close      Volume     Market Cap\n0  Sep 05, 2017  316.88  333.83  286.53  327.23  53,928,800  2,388,710,000\n1  Sep 04, 2017  356.94  357.21  301.84  316.13  44,170,200  2,689,920,000\n2  Sep 03, 2017  354.63  373.08  338.23  356.39  34,945,200  2,670,270,000\n3  Sep 02, 2017  393.53  395.92  329.27  350.17  54,813,400  2,962,400,000\n4  Sep 01, 2017  377.92  393.35  376.34  393.35  55,440,700  2,844,110,000",
      "text/html": "<div>\n<style scoped>\n    .dataframe tbody tr th:only-of-type {\n        vertical-align: middle;\n    }\n\n    .dataframe tbody tr th {\n        vertical-align: top;\n    }\n\n    .dataframe thead th {\n        text-align: right;\n    }\n</style>\n<table border=\"1\" class=\"dataframe\">\n  <thead>\n    <tr style=\"text-align: right;\">\n      <th></th>\n      <th>Date</th>\n      <th>Open</th>\n      <th>High</th>\n      <th>Low</th>\n      <th>Close</th>\n      <th>Volume</th>\n      <th>Market Cap</th>\n    </tr>\n  </thead>\n  <tbody>\n    <tr>\n      <th>0</th>\n      <td>Sep 05, 2017</td>\n      <td>316.88</td>\n      <td>333.83</td>\n      <td>286.53</td>\n      <td>327.23</td>\n      <td>53,928,800</td>\n      <td>2,388,710,000</td>\n    </tr>\n    <tr>\n      <th>1</th>\n      <td>Sep 04, 2017</td>\n      <td>356.94</td>\n      <td>357.21</td>\n      <td>301.84</td>\n      <td>316.13</td>\n      <td>44,170,200</td>\n      <td>2,689,920,000</td>\n    </tr>\n    <tr>\n      <th>2</th>\n      <td>Sep 03, 2017</td>\n      <td>354.63</td>\n      <td>373.08</td>\n      <td>338.23</td>\n      <td>356.39</td>\n      <td>34,945,200</td>\n      <td>2,670,270,000</td>\n    </tr>\n    <tr>\n      <th>3</th>\n      <td>Sep 02, 2017</td>\n      <td>393.53</td>\n      <td>395.92</td>\n      <td>329.27</td>\n      <td>350.17</td>\n      <td>54,813,400</td>\n      <td>2,962,400,000</td>\n    </tr>\n    <tr>\n      <th>4</th>\n      <td>Sep 01, 2017</td>\n      <td>377.92</td>\n      <td>393.35</td>\n      <td>376.34</td>\n      <td>393.35</td>\n      <td>55,440,700</td>\n      <td>2,844,110,000</td>\n    </tr>\n  </tbody>\n</table>\n</div>"
     },
     "metadata": {},
     "execution_count": 49
    }
   ],
   "source": [
    "df4.head()"
   ]
  },
  {
   "cell_type": "code",
   "execution_count": 51,
   "metadata": {},
   "outputs": [
    {
     "output_type": "execute_result",
     "data": {
      "text/plain": "              Date       Open       High        Low      Close   Volume  \\\n1180  Jun 13, 2014  10.160000  10.890000  10.160000  10.640000  426,354   \n1249  Apr 05, 2014   0.640305   0.703904   0.620445   0.700444   28,674   \n863   Apr 26, 2015   3.100000   3.100000   2.930000   3.050000   95,532   \n427   Jul 05, 2016   7.090000   7.090000   6.830000   6.990000  237,373   \n1216  May 08, 2014   1.610000   1.740000   1.610000   1.650000   84,669   \n\n      Market Cap  \n1180  44,453,800  \n1249   2,509,580  \n863   16,447,900  \n427   46,521,100  \n1216   6,841,980  ",
      "text/html": "<div>\n<style scoped>\n    .dataframe tbody tr th:only-of-type {\n        vertical-align: middle;\n    }\n\n    .dataframe tbody tr th {\n        vertical-align: top;\n    }\n\n    .dataframe thead th {\n        text-align: right;\n    }\n</style>\n<table border=\"1\" class=\"dataframe\">\n  <thead>\n    <tr style=\"text-align: right;\">\n      <th></th>\n      <th>Date</th>\n      <th>Open</th>\n      <th>High</th>\n      <th>Low</th>\n      <th>Close</th>\n      <th>Volume</th>\n      <th>Market Cap</th>\n    </tr>\n  </thead>\n  <tbody>\n    <tr>\n      <th>1180</th>\n      <td>Jun 13, 2014</td>\n      <td>10.160000</td>\n      <td>10.890000</td>\n      <td>10.160000</td>\n      <td>10.640000</td>\n      <td>426,354</td>\n      <td>44,453,800</td>\n    </tr>\n    <tr>\n      <th>1249</th>\n      <td>Apr 05, 2014</td>\n      <td>0.640305</td>\n      <td>0.703904</td>\n      <td>0.620445</td>\n      <td>0.700444</td>\n      <td>28,674</td>\n      <td>2,509,580</td>\n    </tr>\n    <tr>\n      <th>863</th>\n      <td>Apr 26, 2015</td>\n      <td>3.100000</td>\n      <td>3.100000</td>\n      <td>2.930000</td>\n      <td>3.050000</td>\n      <td>95,532</td>\n      <td>16,447,900</td>\n    </tr>\n    <tr>\n      <th>427</th>\n      <td>Jul 05, 2016</td>\n      <td>7.090000</td>\n      <td>7.090000</td>\n      <td>6.830000</td>\n      <td>6.990000</td>\n      <td>237,373</td>\n      <td>46,521,100</td>\n    </tr>\n    <tr>\n      <th>1216</th>\n      <td>May 08, 2014</td>\n      <td>1.610000</td>\n      <td>1.740000</td>\n      <td>1.610000</td>\n      <td>1.650000</td>\n      <td>84,669</td>\n      <td>6,841,980</td>\n    </tr>\n  </tbody>\n</table>\n</div>"
     },
     "metadata": {},
     "execution_count": 51
    }
   ],
   "source": [
    "df4.sample(5)"
   ]
  },
  {
   "cell_type": "markdown",
   "metadata": {},
   "source": [
    "### ethereum_classic_price.csv"
   ]
  },
  {
   "cell_type": "code",
   "execution_count": 53,
   "metadata": {},
   "outputs": [
    {
     "output_type": "execute_result",
     "data": {
      "text/plain": "           Date   Open   High    Low  Close       Volume     Market Cap\n0  Sep 05, 2017  15.82  16.85  14.30  16.58  218,190,000  1,506,490,000\n1  Sep 04, 2017  18.54  18.71  15.37  15.84  243,535,000  1,764,650,000\n2  Sep 03, 2017  20.18  20.47  18.07  18.57  221,986,000  1,920,050,000\n3  Sep 02, 2017  22.04  23.68  18.18  20.08  648,787,000  2,096,550,000\n4  Sep 01, 2017  16.40  22.45  16.32  21.94  821,440,000  1,559,510,000",
      "text/html": "<div>\n<style scoped>\n    .dataframe tbody tr th:only-of-type {\n        vertical-align: middle;\n    }\n\n    .dataframe tbody tr th {\n        vertical-align: top;\n    }\n\n    .dataframe thead th {\n        text-align: right;\n    }\n</style>\n<table border=\"1\" class=\"dataframe\">\n  <thead>\n    <tr style=\"text-align: right;\">\n      <th></th>\n      <th>Date</th>\n      <th>Open</th>\n      <th>High</th>\n      <th>Low</th>\n      <th>Close</th>\n      <th>Volume</th>\n      <th>Market Cap</th>\n    </tr>\n  </thead>\n  <tbody>\n    <tr>\n      <th>0</th>\n      <td>Sep 05, 2017</td>\n      <td>15.82</td>\n      <td>16.85</td>\n      <td>14.30</td>\n      <td>16.58</td>\n      <td>218,190,000</td>\n      <td>1,506,490,000</td>\n    </tr>\n    <tr>\n      <th>1</th>\n      <td>Sep 04, 2017</td>\n      <td>18.54</td>\n      <td>18.71</td>\n      <td>15.37</td>\n      <td>15.84</td>\n      <td>243,535,000</td>\n      <td>1,764,650,000</td>\n    </tr>\n    <tr>\n      <th>2</th>\n      <td>Sep 03, 2017</td>\n      <td>20.18</td>\n      <td>20.47</td>\n      <td>18.07</td>\n      <td>18.57</td>\n      <td>221,986,000</td>\n      <td>1,920,050,000</td>\n    </tr>\n    <tr>\n      <th>3</th>\n      <td>Sep 02, 2017</td>\n      <td>22.04</td>\n      <td>23.68</td>\n      <td>18.18</td>\n      <td>20.08</td>\n      <td>648,787,000</td>\n      <td>2,096,550,000</td>\n    </tr>\n    <tr>\n      <th>4</th>\n      <td>Sep 01, 2017</td>\n      <td>16.40</td>\n      <td>22.45</td>\n      <td>16.32</td>\n      <td>21.94</td>\n      <td>821,440,000</td>\n      <td>1,559,510,000</td>\n    </tr>\n  </tbody>\n</table>\n</div>"
     },
     "metadata": {},
     "execution_count": 53
    }
   ],
   "source": [
    "df5.head()"
   ]
  },
  {
   "cell_type": "code",
   "execution_count": 55,
   "metadata": {},
   "outputs": [
    {
     "output_type": "execute_result",
     "data": {
      "text/plain": "             Date       Open       High        Low      Close       Volume  \\\n37   Jul 30, 2017  14.330000  14.410000  13.760000  13.810000   37,797,400   \n96   Jun 01, 2017  17.620000  17.940000  16.630000  16.830000  129,554,000   \n127  May 01, 2017   6.490000   7.640000   6.240000   6.890000  118,589,000   \n310  Oct 30, 2016   0.890189   0.954583   0.885454   0.927473    1,311,260   \n191  Feb 26, 2017   1.210000   1.250000   1.200000   1.250000    1,486,190   \n\n        Market Cap  \n37   1,347,810,000  \n96   1,624,040,000  \n127    591,840,000  \n310     75,987,400  \n191    108,135,000  ",
      "text/html": "<div>\n<style scoped>\n    .dataframe tbody tr th:only-of-type {\n        vertical-align: middle;\n    }\n\n    .dataframe tbody tr th {\n        vertical-align: top;\n    }\n\n    .dataframe thead th {\n        text-align: right;\n    }\n</style>\n<table border=\"1\" class=\"dataframe\">\n  <thead>\n    <tr style=\"text-align: right;\">\n      <th></th>\n      <th>Date</th>\n      <th>Open</th>\n      <th>High</th>\n      <th>Low</th>\n      <th>Close</th>\n      <th>Volume</th>\n      <th>Market Cap</th>\n    </tr>\n  </thead>\n  <tbody>\n    <tr>\n      <th>37</th>\n      <td>Jul 30, 2017</td>\n      <td>14.330000</td>\n      <td>14.410000</td>\n      <td>13.760000</td>\n      <td>13.810000</td>\n      <td>37,797,400</td>\n      <td>1,347,810,000</td>\n    </tr>\n    <tr>\n      <th>96</th>\n      <td>Jun 01, 2017</td>\n      <td>17.620000</td>\n      <td>17.940000</td>\n      <td>16.630000</td>\n      <td>16.830000</td>\n      <td>129,554,000</td>\n      <td>1,624,040,000</td>\n    </tr>\n    <tr>\n      <th>127</th>\n      <td>May 01, 2017</td>\n      <td>6.490000</td>\n      <td>7.640000</td>\n      <td>6.240000</td>\n      <td>6.890000</td>\n      <td>118,589,000</td>\n      <td>591,840,000</td>\n    </tr>\n    <tr>\n      <th>310</th>\n      <td>Oct 30, 2016</td>\n      <td>0.890189</td>\n      <td>0.954583</td>\n      <td>0.885454</td>\n      <td>0.927473</td>\n      <td>1,311,260</td>\n      <td>75,987,400</td>\n    </tr>\n    <tr>\n      <th>191</th>\n      <td>Feb 26, 2017</td>\n      <td>1.210000</td>\n      <td>1.250000</td>\n      <td>1.200000</td>\n      <td>1.250000</td>\n      <td>1,486,190</td>\n      <td>108,135,000</td>\n    </tr>\n  </tbody>\n</table>\n</div>"
     },
     "metadata": {},
     "execution_count": 55
    }
   ],
   "source": [
    "df5.sample(5)"
   ]
  },
  {
   "cell_type": "markdown",
   "metadata": {},
   "source": [
    "### ethereum_dataset.csv"
   ]
  },
  {
   "cell_type": "code",
   "execution_count": 57,
   "metadata": {},
   "outputs": [
    {
     "output_type": "execute_result",
     "data": {
      "text/plain": "   Date(UTC)  UnixTimeStamp  eth_etherprice  eth_tx  eth_address  \\\n0  7/30/2015     1438214400             0.0    8893         9205   \n1  7/31/2015     1438300800             0.0       0         9361   \n2   8/1/2015     1438387200             0.0       0         9476   \n3   8/2/2015     1438473600             0.0       0         9563   \n4   8/3/2015     1438560000             0.0       0         9639   \n\n     eth_supply  eth_marketcap  eth_hashrate  eth_difficulty  eth_blocks  \\\n0  7.204931e+07            0.0       23.7569           0.121        6912   \n1  7.208550e+07            0.0       48.1584           0.603        6863   \n2  7.211320e+07            0.0       55.2709           0.887        5293   \n3  7.214143e+07            0.0       64.1779           1.020        5358   \n4  7.216940e+07            0.0       69.8559           1.126        5280   \n\n   eth_uncles  eth_blocksize  eth_blocktime  eth_gasprice  eth_gaslimit  \\\n0        1299            644           4.46             0             0   \n1         511            582          12.58             0             0   \n2         334            575          16.34             0             0   \n3         394            581          16.12             0             0   \n4         443            587          16.37             0             0   \n\n   eth_gasused  eth_ethersupply  eth_chaindatasize  eth_ens_register  \n0            0      39316.09375                NaN               NaN  \n1            0      36191.71875                NaN               NaN  \n2            0      27705.93750                NaN               NaN  \n3            0      28223.43750                NaN               NaN  \n4            0      27976.71875                NaN               NaN  ",
      "text/html": "<div>\n<style scoped>\n    .dataframe tbody tr th:only-of-type {\n        vertical-align: middle;\n    }\n\n    .dataframe tbody tr th {\n        vertical-align: top;\n    }\n\n    .dataframe thead th {\n        text-align: right;\n    }\n</style>\n<table border=\"1\" class=\"dataframe\">\n  <thead>\n    <tr style=\"text-align: right;\">\n      <th></th>\n      <th>Date(UTC)</th>\n      <th>UnixTimeStamp</th>\n      <th>eth_etherprice</th>\n      <th>eth_tx</th>\n      <th>eth_address</th>\n      <th>eth_supply</th>\n      <th>eth_marketcap</th>\n      <th>eth_hashrate</th>\n      <th>eth_difficulty</th>\n      <th>eth_blocks</th>\n      <th>eth_uncles</th>\n      <th>eth_blocksize</th>\n      <th>eth_blocktime</th>\n      <th>eth_gasprice</th>\n      <th>eth_gaslimit</th>\n      <th>eth_gasused</th>\n      <th>eth_ethersupply</th>\n      <th>eth_chaindatasize</th>\n      <th>eth_ens_register</th>\n    </tr>\n  </thead>\n  <tbody>\n    <tr>\n      <th>0</th>\n      <td>7/30/2015</td>\n      <td>1438214400</td>\n      <td>0.0</td>\n      <td>8893</td>\n      <td>9205</td>\n      <td>7.204931e+07</td>\n      <td>0.0</td>\n      <td>23.7569</td>\n      <td>0.121</td>\n      <td>6912</td>\n      <td>1299</td>\n      <td>644</td>\n      <td>4.46</td>\n      <td>0</td>\n      <td>0</td>\n      <td>0</td>\n      <td>39316.09375</td>\n      <td>NaN</td>\n      <td>NaN</td>\n    </tr>\n    <tr>\n      <th>1</th>\n      <td>7/31/2015</td>\n      <td>1438300800</td>\n      <td>0.0</td>\n      <td>0</td>\n      <td>9361</td>\n      <td>7.208550e+07</td>\n      <td>0.0</td>\n      <td>48.1584</td>\n      <td>0.603</td>\n      <td>6863</td>\n      <td>511</td>\n      <td>582</td>\n      <td>12.58</td>\n      <td>0</td>\n      <td>0</td>\n      <td>0</td>\n      <td>36191.71875</td>\n      <td>NaN</td>\n      <td>NaN</td>\n    </tr>\n    <tr>\n      <th>2</th>\n      <td>8/1/2015</td>\n      <td>1438387200</td>\n      <td>0.0</td>\n      <td>0</td>\n      <td>9476</td>\n      <td>7.211320e+07</td>\n      <td>0.0</td>\n      <td>55.2709</td>\n      <td>0.887</td>\n      <td>5293</td>\n      <td>334</td>\n      <td>575</td>\n      <td>16.34</td>\n      <td>0</td>\n      <td>0</td>\n      <td>0</td>\n      <td>27705.93750</td>\n      <td>NaN</td>\n      <td>NaN</td>\n    </tr>\n    <tr>\n      <th>3</th>\n      <td>8/2/2015</td>\n      <td>1438473600</td>\n      <td>0.0</td>\n      <td>0</td>\n      <td>9563</td>\n      <td>7.214143e+07</td>\n      <td>0.0</td>\n      <td>64.1779</td>\n      <td>1.020</td>\n      <td>5358</td>\n      <td>394</td>\n      <td>581</td>\n      <td>16.12</td>\n      <td>0</td>\n      <td>0</td>\n      <td>0</td>\n      <td>28223.43750</td>\n      <td>NaN</td>\n      <td>NaN</td>\n    </tr>\n    <tr>\n      <th>4</th>\n      <td>8/3/2015</td>\n      <td>1438560000</td>\n      <td>0.0</td>\n      <td>0</td>\n      <td>9639</td>\n      <td>7.216940e+07</td>\n      <td>0.0</td>\n      <td>69.8559</td>\n      <td>1.126</td>\n      <td>5280</td>\n      <td>443</td>\n      <td>587</td>\n      <td>16.37</td>\n      <td>0</td>\n      <td>0</td>\n      <td>0</td>\n      <td>27976.71875</td>\n      <td>NaN</td>\n      <td>NaN</td>\n    </tr>\n  </tbody>\n</table>\n</div>"
     },
     "metadata": {},
     "execution_count": 57
    }
   ],
   "source": [
    "df6.head()"
   ]
  },
  {
   "cell_type": "code",
   "execution_count": 59,
   "metadata": {},
   "outputs": [
    {
     "output_type": "execute_result",
     "data": {
      "text/plain": "      Date(UTC)  UnixTimeStamp  eth_etherprice  eth_tx  eth_address  \\\n646    5/6/2017     1494028800           94.82   95014      1739516   \n473  11/14/2016     1479081600           10.00   43876       801315   \n273   4/28/2016     1461801600            7.32   34343       172060   \n348   7/12/2016     1468281600           10.54   40811       436469   \n752   8/20/2017     1503187200          298.20  309926      6127189   \n\n       eth_supply  eth_marketcap  eth_hashrate  eth_difficulty  eth_blocks  \\\n646  9.137647e+07    8664.317348    23416.8712         349.260        5678   \n473  8.596361e+07     859.636061     4872.7435          68.109        6067   \n273  7.952293e+07     582.107874     2332.6090          32.024        6030   \n348  8.192669e+07     863.507329     4341.3838          59.737        6006   \n752  9.413547e+07   28071.197303    88118.4535        1792.593        4156   \n\n     eth_uncles  eth_blocksize  eth_blocktime  eth_gasprice  eth_gaslimit  \\\n646         362           2934          15.14   22254507120       4289623   \n473         431           1576          14.13   24969184273       1998511   \n273         440           1408          13.88   23151110557       4714138   \n348         435           1567          13.99   22440652514       4711258   \n752         340          12825          20.65   22972240493       6709809   \n\n     eth_gasused  eth_ethersupply  eth_chaindatasize  eth_ens_register  \n646   3895528821      29703.43750                NaN               0.0  \n473   1454676000      31884.21875                NaN               NaN  \n273   1012268150      31682.50000                NaN               NaN  \n348   1519722103      31761.09375                NaN               NaN  \n752  15896801546      22132.50000                NaN             535.0  ",
      "text/html": "<div>\n<style scoped>\n    .dataframe tbody tr th:only-of-type {\n        vertical-align: middle;\n    }\n\n    .dataframe tbody tr th {\n        vertical-align: top;\n    }\n\n    .dataframe thead th {\n        text-align: right;\n    }\n</style>\n<table border=\"1\" class=\"dataframe\">\n  <thead>\n    <tr style=\"text-align: right;\">\n      <th></th>\n      <th>Date(UTC)</th>\n      <th>UnixTimeStamp</th>\n      <th>eth_etherprice</th>\n      <th>eth_tx</th>\n      <th>eth_address</th>\n      <th>eth_supply</th>\n      <th>eth_marketcap</th>\n      <th>eth_hashrate</th>\n      <th>eth_difficulty</th>\n      <th>eth_blocks</th>\n      <th>eth_uncles</th>\n      <th>eth_blocksize</th>\n      <th>eth_blocktime</th>\n      <th>eth_gasprice</th>\n      <th>eth_gaslimit</th>\n      <th>eth_gasused</th>\n      <th>eth_ethersupply</th>\n      <th>eth_chaindatasize</th>\n      <th>eth_ens_register</th>\n    </tr>\n  </thead>\n  <tbody>\n    <tr>\n      <th>646</th>\n      <td>5/6/2017</td>\n      <td>1494028800</td>\n      <td>94.82</td>\n      <td>95014</td>\n      <td>1739516</td>\n      <td>9.137647e+07</td>\n      <td>8664.317348</td>\n      <td>23416.8712</td>\n      <td>349.260</td>\n      <td>5678</td>\n      <td>362</td>\n      <td>2934</td>\n      <td>15.14</td>\n      <td>22254507120</td>\n      <td>4289623</td>\n      <td>3895528821</td>\n      <td>29703.43750</td>\n      <td>NaN</td>\n      <td>0.0</td>\n    </tr>\n    <tr>\n      <th>473</th>\n      <td>11/14/2016</td>\n      <td>1479081600</td>\n      <td>10.00</td>\n      <td>43876</td>\n      <td>801315</td>\n      <td>8.596361e+07</td>\n      <td>859.636061</td>\n      <td>4872.7435</td>\n      <td>68.109</td>\n      <td>6067</td>\n      <td>431</td>\n      <td>1576</td>\n      <td>14.13</td>\n      <td>24969184273</td>\n      <td>1998511</td>\n      <td>1454676000</td>\n      <td>31884.21875</td>\n      <td>NaN</td>\n      <td>NaN</td>\n    </tr>\n    <tr>\n      <th>273</th>\n      <td>4/28/2016</td>\n      <td>1461801600</td>\n      <td>7.32</td>\n      <td>34343</td>\n      <td>172060</td>\n      <td>7.952293e+07</td>\n      <td>582.107874</td>\n      <td>2332.6090</td>\n      <td>32.024</td>\n      <td>6030</td>\n      <td>440</td>\n      <td>1408</td>\n      <td>13.88</td>\n      <td>23151110557</td>\n      <td>4714138</td>\n      <td>1012268150</td>\n      <td>31682.50000</td>\n      <td>NaN</td>\n      <td>NaN</td>\n    </tr>\n    <tr>\n      <th>348</th>\n      <td>7/12/2016</td>\n      <td>1468281600</td>\n      <td>10.54</td>\n      <td>40811</td>\n      <td>436469</td>\n      <td>8.192669e+07</td>\n      <td>863.507329</td>\n      <td>4341.3838</td>\n      <td>59.737</td>\n      <td>6006</td>\n      <td>435</td>\n      <td>1567</td>\n      <td>13.99</td>\n      <td>22440652514</td>\n      <td>4711258</td>\n      <td>1519722103</td>\n      <td>31761.09375</td>\n      <td>NaN</td>\n      <td>NaN</td>\n    </tr>\n    <tr>\n      <th>752</th>\n      <td>8/20/2017</td>\n      <td>1503187200</td>\n      <td>298.20</td>\n      <td>309926</td>\n      <td>6127189</td>\n      <td>9.413547e+07</td>\n      <td>28071.197303</td>\n      <td>88118.4535</td>\n      <td>1792.593</td>\n      <td>4156</td>\n      <td>340</td>\n      <td>12825</td>\n      <td>20.65</td>\n      <td>22972240493</td>\n      <td>6709809</td>\n      <td>15896801546</td>\n      <td>22132.50000</td>\n      <td>NaN</td>\n      <td>535.0</td>\n    </tr>\n  </tbody>\n</table>\n</div>"
     },
     "metadata": {},
     "execution_count": 59
    }
   ],
   "source": [
    "df6.sample(5)"
   ]
  },
  {
   "cell_type": "markdown",
   "metadata": {},
   "source": [
    "### ethereum_price.csv"
   ]
  },
  {
   "cell_type": "code",
   "execution_count": 61,
   "metadata": {},
   "outputs": [
    {
     "output_type": "execute_result",
     "data": {
      "text/plain": "           Date    Open    High     Low   Close         Volume      Market Cap\n0  Sep 05, 2017  297.57  318.57  268.29  312.99  1,551,050,000  28,100,000,000\n1  Sep 04, 2017  347.13  347.13  279.94  295.17  1,801,690,000  32,774,000,000\n2  Sep 03, 2017  350.23  366.49  332.23  347.48    986,266,000  33,059,800,000\n3  Sep 02, 2017  387.82  389.35  328.10  348.98  1,483,600,000  36,601,200,000\n4  Sep 01, 2017  383.47  390.04  383.47  387.74    874,222,000  36,182,900,000",
      "text/html": "<div>\n<style scoped>\n    .dataframe tbody tr th:only-of-type {\n        vertical-align: middle;\n    }\n\n    .dataframe tbody tr th {\n        vertical-align: top;\n    }\n\n    .dataframe thead th {\n        text-align: right;\n    }\n</style>\n<table border=\"1\" class=\"dataframe\">\n  <thead>\n    <tr style=\"text-align: right;\">\n      <th></th>\n      <th>Date</th>\n      <th>Open</th>\n      <th>High</th>\n      <th>Low</th>\n      <th>Close</th>\n      <th>Volume</th>\n      <th>Market Cap</th>\n    </tr>\n  </thead>\n  <tbody>\n    <tr>\n      <th>0</th>\n      <td>Sep 05, 2017</td>\n      <td>297.57</td>\n      <td>318.57</td>\n      <td>268.29</td>\n      <td>312.99</td>\n      <td>1,551,050,000</td>\n      <td>28,100,000,000</td>\n    </tr>\n    <tr>\n      <th>1</th>\n      <td>Sep 04, 2017</td>\n      <td>347.13</td>\n      <td>347.13</td>\n      <td>279.94</td>\n      <td>295.17</td>\n      <td>1,801,690,000</td>\n      <td>32,774,000,000</td>\n    </tr>\n    <tr>\n      <th>2</th>\n      <td>Sep 03, 2017</td>\n      <td>350.23</td>\n      <td>366.49</td>\n      <td>332.23</td>\n      <td>347.48</td>\n      <td>986,266,000</td>\n      <td>33,059,800,000</td>\n    </tr>\n    <tr>\n      <th>3</th>\n      <td>Sep 02, 2017</td>\n      <td>387.82</td>\n      <td>389.35</td>\n      <td>328.10</td>\n      <td>348.98</td>\n      <td>1,483,600,000</td>\n      <td>36,601,200,000</td>\n    </tr>\n    <tr>\n      <th>4</th>\n      <td>Sep 01, 2017</td>\n      <td>383.47</td>\n      <td>390.04</td>\n      <td>383.47</td>\n      <td>387.74</td>\n      <td>874,222,000</td>\n      <td>36,182,900,000</td>\n    </tr>\n  </tbody>\n</table>\n</div>"
     },
     "metadata": {},
     "execution_count": 61
    }
   ],
   "source": [
    "df7.head()"
   ]
  },
  {
   "cell_type": "code",
   "execution_count": 63,
   "metadata": {},
   "outputs": [
    {
     "output_type": "execute_result",
     "data": {
      "text/plain": "             Date        Open        High         Low       Close  \\\n566  Feb 17, 2016    4.290000    4.770000    3.500000    3.760000   \n51   Jul 16, 2017  169.570000  172.010000  133.720000  157.360000   \n451  Jun 11, 2016   13.910000   14.190000   13.720000   14.190000   \n606  Jan 08, 2016    0.942752    0.991825    0.939715    0.986789   \n1    Sep 04, 2017  347.130000  347.130000  279.940000  295.170000   \n\n            Volume      Market Cap  \n566     15,451,000     330,635,000  \n51   1,516,890,000  15,823,100,000  \n451     12,176,500   1,125,180,000  \n606        545,600      71,724,000  \n1    1,801,690,000  32,774,000,000  ",
      "text/html": "<div>\n<style scoped>\n    .dataframe tbody tr th:only-of-type {\n        vertical-align: middle;\n    }\n\n    .dataframe tbody tr th {\n        vertical-align: top;\n    }\n\n    .dataframe thead th {\n        text-align: right;\n    }\n</style>\n<table border=\"1\" class=\"dataframe\">\n  <thead>\n    <tr style=\"text-align: right;\">\n      <th></th>\n      <th>Date</th>\n      <th>Open</th>\n      <th>High</th>\n      <th>Low</th>\n      <th>Close</th>\n      <th>Volume</th>\n      <th>Market Cap</th>\n    </tr>\n  </thead>\n  <tbody>\n    <tr>\n      <th>566</th>\n      <td>Feb 17, 2016</td>\n      <td>4.290000</td>\n      <td>4.770000</td>\n      <td>3.500000</td>\n      <td>3.760000</td>\n      <td>15,451,000</td>\n      <td>330,635,000</td>\n    </tr>\n    <tr>\n      <th>51</th>\n      <td>Jul 16, 2017</td>\n      <td>169.570000</td>\n      <td>172.010000</td>\n      <td>133.720000</td>\n      <td>157.360000</td>\n      <td>1,516,890,000</td>\n      <td>15,823,100,000</td>\n    </tr>\n    <tr>\n      <th>451</th>\n      <td>Jun 11, 2016</td>\n      <td>13.910000</td>\n      <td>14.190000</td>\n      <td>13.720000</td>\n      <td>14.190000</td>\n      <td>12,176,500</td>\n      <td>1,125,180,000</td>\n    </tr>\n    <tr>\n      <th>606</th>\n      <td>Jan 08, 2016</td>\n      <td>0.942752</td>\n      <td>0.991825</td>\n      <td>0.939715</td>\n      <td>0.986789</td>\n      <td>545,600</td>\n      <td>71,724,000</td>\n    </tr>\n    <tr>\n      <th>1</th>\n      <td>Sep 04, 2017</td>\n      <td>347.130000</td>\n      <td>347.130000</td>\n      <td>279.940000</td>\n      <td>295.170000</td>\n      <td>1,801,690,000</td>\n      <td>32,774,000,000</td>\n    </tr>\n  </tbody>\n</table>\n</div>"
     },
     "metadata": {},
     "execution_count": 63
    }
   ],
   "source": [
    "df7.sample(5)"
   ]
  },
  {
   "cell_type": "markdown",
   "metadata": {},
   "source": [
    "### iota_price.csv"
   ]
  },
  {
   "cell_type": "code",
   "execution_count": 65,
   "metadata": {},
   "outputs": [
    {
     "output_type": "execute_result",
     "data": {
      "text/plain": "           Date      Open      High       Low     Close      Volume  \\\n0  Sep 05, 2017  0.544132  0.646085  0.468949  0.613085  45,817,500   \n1  Sep 04, 2017  0.744257  0.744257  0.406795  0.566472  74,601,300   \n2  Sep 03, 2017  0.698855  0.775863  0.672850  0.743968  29,504,600   \n3  Sep 02, 2017  0.796560  0.802464  0.658006  0.695547  39,333,900   \n4  Sep 01, 2017  0.842867  0.879100  0.768119  0.807778  28,047,000   \n\n      Market Cap  \n0  1,512,430,000  \n1  2,068,680,000  \n2  1,942,490,000  \n3  2,214,060,000  \n4  2,342,770,000  ",
      "text/html": "<div>\n<style scoped>\n    .dataframe tbody tr th:only-of-type {\n        vertical-align: middle;\n    }\n\n    .dataframe tbody tr th {\n        vertical-align: top;\n    }\n\n    .dataframe thead th {\n        text-align: right;\n    }\n</style>\n<table border=\"1\" class=\"dataframe\">\n  <thead>\n    <tr style=\"text-align: right;\">\n      <th></th>\n      <th>Date</th>\n      <th>Open</th>\n      <th>High</th>\n      <th>Low</th>\n      <th>Close</th>\n      <th>Volume</th>\n      <th>Market Cap</th>\n    </tr>\n  </thead>\n  <tbody>\n    <tr>\n      <th>0</th>\n      <td>Sep 05, 2017</td>\n      <td>0.544132</td>\n      <td>0.646085</td>\n      <td>0.468949</td>\n      <td>0.613085</td>\n      <td>45,817,500</td>\n      <td>1,512,430,000</td>\n    </tr>\n    <tr>\n      <th>1</th>\n      <td>Sep 04, 2017</td>\n      <td>0.744257</td>\n      <td>0.744257</td>\n      <td>0.406795</td>\n      <td>0.566472</td>\n      <td>74,601,300</td>\n      <td>2,068,680,000</td>\n    </tr>\n    <tr>\n      <th>2</th>\n      <td>Sep 03, 2017</td>\n      <td>0.698855</td>\n      <td>0.775863</td>\n      <td>0.672850</td>\n      <td>0.743968</td>\n      <td>29,504,600</td>\n      <td>1,942,490,000</td>\n    </tr>\n    <tr>\n      <th>3</th>\n      <td>Sep 02, 2017</td>\n      <td>0.796560</td>\n      <td>0.802464</td>\n      <td>0.658006</td>\n      <td>0.695547</td>\n      <td>39,333,900</td>\n      <td>2,214,060,000</td>\n    </tr>\n    <tr>\n      <th>4</th>\n      <td>Sep 01, 2017</td>\n      <td>0.842867</td>\n      <td>0.879100</td>\n      <td>0.768119</td>\n      <td>0.807778</td>\n      <td>28,047,000</td>\n      <td>2,342,770,000</td>\n    </tr>\n  </tbody>\n</table>\n</div>"
     },
     "metadata": {},
     "execution_count": 65
    }
   ],
   "source": [
    "df8.head()"
   ]
  },
  {
   "cell_type": "code",
   "execution_count": 67,
   "metadata": {},
   "outputs": [
    {
     "output_type": "execute_result",
     "data": {
      "text/plain": "            Date      Open      High       Low     Close      Volume  \\\n40  Jul 27, 2017  0.276850  0.285551  0.275467  0.275467   3,343,540   \n10  Aug 26, 2017  0.915926  0.970068  0.877886  0.962213  16,623,100   \n51  Jul 16, 2017  0.157961  0.185445  0.155173  0.180978   4,178,170   \n19  Aug 17, 2017  1.040000  1.100000  0.998241  1.020000  58,209,300   \n21  Aug 15, 2017  0.977320  0.995791  0.767236  0.917949  84,698,300   \n\n       Market Cap  \n40    769,512,000  \n10  2,545,840,000  \n51    439,057,000  \n19  2,904,020,000  \n21  2,716,490,000  ",
      "text/html": "<div>\n<style scoped>\n    .dataframe tbody tr th:only-of-type {\n        vertical-align: middle;\n    }\n\n    .dataframe tbody tr th {\n        vertical-align: top;\n    }\n\n    .dataframe thead th {\n        text-align: right;\n    }\n</style>\n<table border=\"1\" class=\"dataframe\">\n  <thead>\n    <tr style=\"text-align: right;\">\n      <th></th>\n      <th>Date</th>\n      <th>Open</th>\n      <th>High</th>\n      <th>Low</th>\n      <th>Close</th>\n      <th>Volume</th>\n      <th>Market Cap</th>\n    </tr>\n  </thead>\n  <tbody>\n    <tr>\n      <th>40</th>\n      <td>Jul 27, 2017</td>\n      <td>0.276850</td>\n      <td>0.285551</td>\n      <td>0.275467</td>\n      <td>0.275467</td>\n      <td>3,343,540</td>\n      <td>769,512,000</td>\n    </tr>\n    <tr>\n      <th>10</th>\n      <td>Aug 26, 2017</td>\n      <td>0.915926</td>\n      <td>0.970068</td>\n      <td>0.877886</td>\n      <td>0.962213</td>\n      <td>16,623,100</td>\n      <td>2,545,840,000</td>\n    </tr>\n    <tr>\n      <th>51</th>\n      <td>Jul 16, 2017</td>\n      <td>0.157961</td>\n      <td>0.185445</td>\n      <td>0.155173</td>\n      <td>0.180978</td>\n      <td>4,178,170</td>\n      <td>439,057,000</td>\n    </tr>\n    <tr>\n      <th>19</th>\n      <td>Aug 17, 2017</td>\n      <td>1.040000</td>\n      <td>1.100000</td>\n      <td>0.998241</td>\n      <td>1.020000</td>\n      <td>58,209,300</td>\n      <td>2,904,020,000</td>\n    </tr>\n    <tr>\n      <th>21</th>\n      <td>Aug 15, 2017</td>\n      <td>0.977320</td>\n      <td>0.995791</td>\n      <td>0.767236</td>\n      <td>0.917949</td>\n      <td>84,698,300</td>\n      <td>2,716,490,000</td>\n    </tr>\n  </tbody>\n</table>\n</div>"
     },
     "metadata": {},
     "execution_count": 67
    }
   ],
   "source": [
    "df8.sample(5)"
   ]
  },
  {
   "cell_type": "markdown",
   "metadata": {},
   "source": [
    "### litecoin_price.csv"
   ]
  },
  {
   "cell_type": "code",
   "execution_count": 69,
   "metadata": {},
   "outputs": [
    {
     "output_type": "execute_result",
     "data": {
      "text/plain": "           Date   Open   High    Low  Close      Volume  Market Cap\n0  Sep 05, 2017  65.25  72.44  59.05  71.29  1016090000  3444150000\n1  Sep 04, 2017  76.73  76.73  61.24  65.21   922041000  4049140000\n2  Sep 03, 2017  78.98  82.83  73.61  76.84   675462000  4166600000\n3  Sep 02, 2017  85.83  92.07  72.23  79.02  1363990000  4526680000\n4  Sep 01, 2017  70.86  87.41  70.01  86.04  1551740000  3735870000",
      "text/html": "<div>\n<style scoped>\n    .dataframe tbody tr th:only-of-type {\n        vertical-align: middle;\n    }\n\n    .dataframe tbody tr th {\n        vertical-align: top;\n    }\n\n    .dataframe thead th {\n        text-align: right;\n    }\n</style>\n<table border=\"1\" class=\"dataframe\">\n  <thead>\n    <tr style=\"text-align: right;\">\n      <th></th>\n      <th>Date</th>\n      <th>Open</th>\n      <th>High</th>\n      <th>Low</th>\n      <th>Close</th>\n      <th>Volume</th>\n      <th>Market Cap</th>\n    </tr>\n  </thead>\n  <tbody>\n    <tr>\n      <th>0</th>\n      <td>Sep 05, 2017</td>\n      <td>65.25</td>\n      <td>72.44</td>\n      <td>59.05</td>\n      <td>71.29</td>\n      <td>1016090000</td>\n      <td>3444150000</td>\n    </tr>\n    <tr>\n      <th>1</th>\n      <td>Sep 04, 2017</td>\n      <td>76.73</td>\n      <td>76.73</td>\n      <td>61.24</td>\n      <td>65.21</td>\n      <td>922041000</td>\n      <td>4049140000</td>\n    </tr>\n    <tr>\n      <th>2</th>\n      <td>Sep 03, 2017</td>\n      <td>78.98</td>\n      <td>82.83</td>\n      <td>73.61</td>\n      <td>76.84</td>\n      <td>675462000</td>\n      <td>4166600000</td>\n    </tr>\n    <tr>\n      <th>3</th>\n      <td>Sep 02, 2017</td>\n      <td>85.83</td>\n      <td>92.07</td>\n      <td>72.23</td>\n      <td>79.02</td>\n      <td>1363990000</td>\n      <td>4526680000</td>\n    </tr>\n    <tr>\n      <th>4</th>\n      <td>Sep 01, 2017</td>\n      <td>70.86</td>\n      <td>87.41</td>\n      <td>70.01</td>\n      <td>86.04</td>\n      <td>1551740000</td>\n      <td>3735870000</td>\n    </tr>\n  </tbody>\n</table>\n</div>"
     },
     "metadata": {},
     "execution_count": 69
    }
   ],
   "source": [
    "df9.head()"
   ]
  },
  {
   "cell_type": "code",
   "execution_count": 71,
   "metadata": {},
   "outputs": [
    {
     "output_type": "execute_result",
     "data": {
      "text/plain": "              Date   Open   High    Low  Close    Volume  Market Cap\n1388  Nov 17, 2013   4.33   4.40   4.09   4.09         -    99881500\n522   Apr 01, 2016   3.25   3.26   3.23   3.24   1316230   146576000\n251   Dec 28, 2016   4.49   4.67   4.49   4.57  10319300   220199000\n1574  May 15, 2013   2.82   3.04   2.64   2.94         -    49842500\n1356  Dec 19, 2013  13.43  20.11  13.43  19.91         -   323026000",
      "text/html": "<div>\n<style scoped>\n    .dataframe tbody tr th:only-of-type {\n        vertical-align: middle;\n    }\n\n    .dataframe tbody tr th {\n        vertical-align: top;\n    }\n\n    .dataframe thead th {\n        text-align: right;\n    }\n</style>\n<table border=\"1\" class=\"dataframe\">\n  <thead>\n    <tr style=\"text-align: right;\">\n      <th></th>\n      <th>Date</th>\n      <th>Open</th>\n      <th>High</th>\n      <th>Low</th>\n      <th>Close</th>\n      <th>Volume</th>\n      <th>Market Cap</th>\n    </tr>\n  </thead>\n  <tbody>\n    <tr>\n      <th>1388</th>\n      <td>Nov 17, 2013</td>\n      <td>4.33</td>\n      <td>4.40</td>\n      <td>4.09</td>\n      <td>4.09</td>\n      <td>-</td>\n      <td>99881500</td>\n    </tr>\n    <tr>\n      <th>522</th>\n      <td>Apr 01, 2016</td>\n      <td>3.25</td>\n      <td>3.26</td>\n      <td>3.23</td>\n      <td>3.24</td>\n      <td>1316230</td>\n      <td>146576000</td>\n    </tr>\n    <tr>\n      <th>251</th>\n      <td>Dec 28, 2016</td>\n      <td>4.49</td>\n      <td>4.67</td>\n      <td>4.49</td>\n      <td>4.57</td>\n      <td>10319300</td>\n      <td>220199000</td>\n    </tr>\n    <tr>\n      <th>1574</th>\n      <td>May 15, 2013</td>\n      <td>2.82</td>\n      <td>3.04</td>\n      <td>2.64</td>\n      <td>2.94</td>\n      <td>-</td>\n      <td>49842500</td>\n    </tr>\n    <tr>\n      <th>1356</th>\n      <td>Dec 19, 2013</td>\n      <td>13.43</td>\n      <td>20.11</td>\n      <td>13.43</td>\n      <td>19.91</td>\n      <td>-</td>\n      <td>323026000</td>\n    </tr>\n  </tbody>\n</table>\n</div>"
     },
     "metadata": {},
     "execution_count": 71
    }
   ],
   "source": [
    "df9.sample(5)"
   ]
  },
  {
   "cell_type": "markdown",
   "metadata": {},
   "source": [
    "### monero_price.csv"
   ]
  },
  {
   "cell_type": "code",
   "execution_count": 73,
   "metadata": {},
   "outputs": [
    {
     "output_type": "execute_result",
     "data": {
      "text/plain": "           Date    Open    High     Low   Close     Volume  Market Cap\n0  Sep 05, 2017  106.75  122.63   95.81  118.82  113378000  1605070000\n1  Sep 04, 2017  126.23  126.23  101.73  106.17   89194700  1897480000\n2  Sep 03, 2017  124.93  129.29  115.74  126.01   92631100  1877380000\n3  Sep 02, 2017  141.35  141.40  121.96  124.80  128849000  2123430000\n4  Sep 01, 2017  140.65  150.09  136.49  141.20  163961000  2112260000",
      "text/html": "<div>\n<style scoped>\n    .dataframe tbody tr th:only-of-type {\n        vertical-align: middle;\n    }\n\n    .dataframe tbody tr th {\n        vertical-align: top;\n    }\n\n    .dataframe thead th {\n        text-align: right;\n    }\n</style>\n<table border=\"1\" class=\"dataframe\">\n  <thead>\n    <tr style=\"text-align: right;\">\n      <th></th>\n      <th>Date</th>\n      <th>Open</th>\n      <th>High</th>\n      <th>Low</th>\n      <th>Close</th>\n      <th>Volume</th>\n      <th>Market Cap</th>\n    </tr>\n  </thead>\n  <tbody>\n    <tr>\n      <th>0</th>\n      <td>Sep 05, 2017</td>\n      <td>106.75</td>\n      <td>122.63</td>\n      <td>95.81</td>\n      <td>118.82</td>\n      <td>113378000</td>\n      <td>1605070000</td>\n    </tr>\n    <tr>\n      <th>1</th>\n      <td>Sep 04, 2017</td>\n      <td>126.23</td>\n      <td>126.23</td>\n      <td>101.73</td>\n      <td>106.17</td>\n      <td>89194700</td>\n      <td>1897480000</td>\n    </tr>\n    <tr>\n      <th>2</th>\n      <td>Sep 03, 2017</td>\n      <td>124.93</td>\n      <td>129.29</td>\n      <td>115.74</td>\n      <td>126.01</td>\n      <td>92631100</td>\n      <td>1877380000</td>\n    </tr>\n    <tr>\n      <th>3</th>\n      <td>Sep 02, 2017</td>\n      <td>141.35</td>\n      <td>141.40</td>\n      <td>121.96</td>\n      <td>124.80</td>\n      <td>128849000</td>\n      <td>2123430000</td>\n    </tr>\n    <tr>\n      <th>4</th>\n      <td>Sep 01, 2017</td>\n      <td>140.65</td>\n      <td>150.09</td>\n      <td>136.49</td>\n      <td>141.20</td>\n      <td>163961000</td>\n      <td>2112260000</td>\n    </tr>\n  </tbody>\n</table>\n</div>"
     },
     "metadata": {},
     "execution_count": 73
    }
   ],
   "source": [
    "df10.head()"
   ]
  },
  {
   "cell_type": "code",
   "execution_count": 75,
   "metadata": {},
   "outputs": [
    {
     "output_type": "execute_result",
     "data": {
      "text/plain": "              Date       Open       High        Low      Close    Volume  \\\n476   May 17, 2016   0.818318   0.854000   0.806392   0.813343    125123   \n253   Dec 26, 2016   9.720000  10.290000   9.700000  10.270000   2243850   \n1051  Oct 20, 2014   0.995676   1.010000   0.916824   0.950394     86281   \n854   May 05, 2015   0.468268   0.482659   0.447593   0.471166     22379   \n88    Jun 09, 2017  56.130000  57.230000  55.290000  55.620000  11941600   \n\n      Market Cap  \n476      9700450  \n253    132352000  \n1051     4110980  \n854      3476820  \n88     819313000  ",
      "text/html": "<div>\n<style scoped>\n    .dataframe tbody tr th:only-of-type {\n        vertical-align: middle;\n    }\n\n    .dataframe tbody tr th {\n        vertical-align: top;\n    }\n\n    .dataframe thead th {\n        text-align: right;\n    }\n</style>\n<table border=\"1\" class=\"dataframe\">\n  <thead>\n    <tr style=\"text-align: right;\">\n      <th></th>\n      <th>Date</th>\n      <th>Open</th>\n      <th>High</th>\n      <th>Low</th>\n      <th>Close</th>\n      <th>Volume</th>\n      <th>Market Cap</th>\n    </tr>\n  </thead>\n  <tbody>\n    <tr>\n      <th>476</th>\n      <td>May 17, 2016</td>\n      <td>0.818318</td>\n      <td>0.854000</td>\n      <td>0.806392</td>\n      <td>0.813343</td>\n      <td>125123</td>\n      <td>9700450</td>\n    </tr>\n    <tr>\n      <th>253</th>\n      <td>Dec 26, 2016</td>\n      <td>9.720000</td>\n      <td>10.290000</td>\n      <td>9.700000</td>\n      <td>10.270000</td>\n      <td>2243850</td>\n      <td>132352000</td>\n    </tr>\n    <tr>\n      <th>1051</th>\n      <td>Oct 20, 2014</td>\n      <td>0.995676</td>\n      <td>1.010000</td>\n      <td>0.916824</td>\n      <td>0.950394</td>\n      <td>86281</td>\n      <td>4110980</td>\n    </tr>\n    <tr>\n      <th>854</th>\n      <td>May 05, 2015</td>\n      <td>0.468268</td>\n      <td>0.482659</td>\n      <td>0.447593</td>\n      <td>0.471166</td>\n      <td>22379</td>\n      <td>3476820</td>\n    </tr>\n    <tr>\n      <th>88</th>\n      <td>Jun 09, 2017</td>\n      <td>56.130000</td>\n      <td>57.230000</td>\n      <td>55.290000</td>\n      <td>55.620000</td>\n      <td>11941600</td>\n      <td>819313000</td>\n    </tr>\n  </tbody>\n</table>\n</div>"
     },
     "metadata": {},
     "execution_count": 75
    }
   ],
   "source": [
    "df10.sample(5)"
   ]
  },
  {
   "cell_type": "markdown",
   "metadata": {},
   "source": [
    "### nem_price.csv"
   ]
  },
  {
   "cell_type": "code",
   "execution_count": 77,
   "metadata": {},
   "outputs": [
    {
     "output_type": "execute_result",
     "data": {
      "text/plain": "           Date      Open      High       Low     Close      Volume  \\\n0  Sep 05, 2017  0.276383  0.292048  0.250638  0.286227   7,635,410   \n1  Sep 04, 2017  0.307735  0.310661  0.256488  0.273220   9,299,200   \n2  Sep 03, 2017  0.298170  0.320628  0.285382  0.307264   7,413,990   \n3  Sep 02, 2017  0.331627  0.332056  0.283507  0.295884   9,560,410   \n4  Sep 01, 2017  0.336602  0.337780  0.312575  0.332310  12,082,700   \n\n      Market Cap  \n0  2,487,450,000  \n1  2,769,620,000  \n2  2,683,530,000  \n3  2,984,640,000  \n4  3,029,420,000  ",
      "text/html": "<div>\n<style scoped>\n    .dataframe tbody tr th:only-of-type {\n        vertical-align: middle;\n    }\n\n    .dataframe tbody tr th {\n        vertical-align: top;\n    }\n\n    .dataframe thead th {\n        text-align: right;\n    }\n</style>\n<table border=\"1\" class=\"dataframe\">\n  <thead>\n    <tr style=\"text-align: right;\">\n      <th></th>\n      <th>Date</th>\n      <th>Open</th>\n      <th>High</th>\n      <th>Low</th>\n      <th>Close</th>\n      <th>Volume</th>\n      <th>Market Cap</th>\n    </tr>\n  </thead>\n  <tbody>\n    <tr>\n      <th>0</th>\n      <td>Sep 05, 2017</td>\n      <td>0.276383</td>\n      <td>0.292048</td>\n      <td>0.250638</td>\n      <td>0.286227</td>\n      <td>7,635,410</td>\n      <td>2,487,450,000</td>\n    </tr>\n    <tr>\n      <th>1</th>\n      <td>Sep 04, 2017</td>\n      <td>0.307735</td>\n      <td>0.310661</td>\n      <td>0.256488</td>\n      <td>0.273220</td>\n      <td>9,299,200</td>\n      <td>2,769,620,000</td>\n    </tr>\n    <tr>\n      <th>2</th>\n      <td>Sep 03, 2017</td>\n      <td>0.298170</td>\n      <td>0.320628</td>\n      <td>0.285382</td>\n      <td>0.307264</td>\n      <td>7,413,990</td>\n      <td>2,683,530,000</td>\n    </tr>\n    <tr>\n      <th>3</th>\n      <td>Sep 02, 2017</td>\n      <td>0.331627</td>\n      <td>0.332056</td>\n      <td>0.283507</td>\n      <td>0.295884</td>\n      <td>9,560,410</td>\n      <td>2,984,640,000</td>\n    </tr>\n    <tr>\n      <th>4</th>\n      <td>Sep 01, 2017</td>\n      <td>0.336602</td>\n      <td>0.337780</td>\n      <td>0.312575</td>\n      <td>0.332310</td>\n      <td>12,082,700</td>\n      <td>3,029,420,000</td>\n    </tr>\n  </tbody>\n</table>\n</div>"
     },
     "metadata": {},
     "execution_count": 77
    }
   ],
   "source": [
    "df11.head()"
   ]
  },
  {
   "cell_type": "code",
   "execution_count": 79,
   "metadata": {},
   "outputs": [
    {
     "output_type": "execute_result",
     "data": {
      "text/plain": "             Date      Open      High       Low     Close      Volume  \\\n102  May 26, 2017  0.204998  0.239563  0.172858  0.182618  20,842,000   \n770  Jul 28, 2015  0.000163  0.000175  0.000162  0.000174       3,019   \n29   Aug 07, 2017  0.251203  0.286137  0.247398  0.280321  23,044,000   \n838  May 21, 2015  0.000172  0.000185  0.000170  0.000172       7,586   \n840  May 19, 2015  0.000166  0.000181  0.000164  0.000171       9,163   \n\n        Market Cap  \n102  1,844,980,000  \n770      1,467,380  \n29   2,260,820,000  \n838      1,545,760  \n840      1,493,820  ",
      "text/html": "<div>\n<style scoped>\n    .dataframe tbody tr th:only-of-type {\n        vertical-align: middle;\n    }\n\n    .dataframe tbody tr th {\n        vertical-align: top;\n    }\n\n    .dataframe thead th {\n        text-align: right;\n    }\n</style>\n<table border=\"1\" class=\"dataframe\">\n  <thead>\n    <tr style=\"text-align: right;\">\n      <th></th>\n      <th>Date</th>\n      <th>Open</th>\n      <th>High</th>\n      <th>Low</th>\n      <th>Close</th>\n      <th>Volume</th>\n      <th>Market Cap</th>\n    </tr>\n  </thead>\n  <tbody>\n    <tr>\n      <th>102</th>\n      <td>May 26, 2017</td>\n      <td>0.204998</td>\n      <td>0.239563</td>\n      <td>0.172858</td>\n      <td>0.182618</td>\n      <td>20,842,000</td>\n      <td>1,844,980,000</td>\n    </tr>\n    <tr>\n      <th>770</th>\n      <td>Jul 28, 2015</td>\n      <td>0.000163</td>\n      <td>0.000175</td>\n      <td>0.000162</td>\n      <td>0.000174</td>\n      <td>3,019</td>\n      <td>1,467,380</td>\n    </tr>\n    <tr>\n      <th>29</th>\n      <td>Aug 07, 2017</td>\n      <td>0.251203</td>\n      <td>0.286137</td>\n      <td>0.247398</td>\n      <td>0.280321</td>\n      <td>23,044,000</td>\n      <td>2,260,820,000</td>\n    </tr>\n    <tr>\n      <th>838</th>\n      <td>May 21, 2015</td>\n      <td>0.000172</td>\n      <td>0.000185</td>\n      <td>0.000170</td>\n      <td>0.000172</td>\n      <td>7,586</td>\n      <td>1,545,760</td>\n    </tr>\n    <tr>\n      <th>840</th>\n      <td>May 19, 2015</td>\n      <td>0.000166</td>\n      <td>0.000181</td>\n      <td>0.000164</td>\n      <td>0.000171</td>\n      <td>9,163</td>\n      <td>1,493,820</td>\n    </tr>\n  </tbody>\n</table>\n</div>"
     },
     "metadata": {},
     "execution_count": 79
    }
   ],
   "source": [
    "df11.sample(5)"
   ]
  },
  {
   "cell_type": "markdown",
   "metadata": {},
   "source": [
    "### neo_price.csv"
   ]
  },
  {
   "cell_type": "code",
   "execution_count": 81,
   "metadata": {},
   "outputs": [
    {
     "output_type": "execute_result",
     "data": {
      "text/plain": "           Date   Open   High    Low  Close       Volume     Market Cap\n0  Sep 05, 2017  21.88  23.85  18.93  22.80   91,402,300  1,093,860,000\n1  Sep 04, 2017  30.44  30.44  17.40  21.83  189,917,000  1,522,090,000\n2  Sep 03, 2017  31.77  32.65  28.58  30.32   43,232,300  1,588,690,000\n3  Sep 02, 2017  31.69  34.81  28.55  31.72   92,722,600  1,584,390,000\n4  Sep 01, 2017  33.17  33.57  28.87  32.01   75,418,900  1,658,680,000",
      "text/html": "<div>\n<style scoped>\n    .dataframe tbody tr th:only-of-type {\n        vertical-align: middle;\n    }\n\n    .dataframe tbody tr th {\n        vertical-align: top;\n    }\n\n    .dataframe thead th {\n        text-align: right;\n    }\n</style>\n<table border=\"1\" class=\"dataframe\">\n  <thead>\n    <tr style=\"text-align: right;\">\n      <th></th>\n      <th>Date</th>\n      <th>Open</th>\n      <th>High</th>\n      <th>Low</th>\n      <th>Close</th>\n      <th>Volume</th>\n      <th>Market Cap</th>\n    </tr>\n  </thead>\n  <tbody>\n    <tr>\n      <th>0</th>\n      <td>Sep 05, 2017</td>\n      <td>21.88</td>\n      <td>23.85</td>\n      <td>18.93</td>\n      <td>22.80</td>\n      <td>91,402,300</td>\n      <td>1,093,860,000</td>\n    </tr>\n    <tr>\n      <th>1</th>\n      <td>Sep 04, 2017</td>\n      <td>30.44</td>\n      <td>30.44</td>\n      <td>17.40</td>\n      <td>21.83</td>\n      <td>189,917,000</td>\n      <td>1,522,090,000</td>\n    </tr>\n    <tr>\n      <th>2</th>\n      <td>Sep 03, 2017</td>\n      <td>31.77</td>\n      <td>32.65</td>\n      <td>28.58</td>\n      <td>30.32</td>\n      <td>43,232,300</td>\n      <td>1,588,690,000</td>\n    </tr>\n    <tr>\n      <th>3</th>\n      <td>Sep 02, 2017</td>\n      <td>31.69</td>\n      <td>34.81</td>\n      <td>28.55</td>\n      <td>31.72</td>\n      <td>92,722,600</td>\n      <td>1,584,390,000</td>\n    </tr>\n    <tr>\n      <th>4</th>\n      <td>Sep 01, 2017</td>\n      <td>33.17</td>\n      <td>33.57</td>\n      <td>28.87</td>\n      <td>32.01</td>\n      <td>75,418,900</td>\n      <td>1,658,680,000</td>\n    </tr>\n  </tbody>\n</table>\n</div>"
     },
     "metadata": {},
     "execution_count": 81
    }
   ],
   "source": [
    "df12.head()"
   ]
  },
  {
   "cell_type": "code",
   "execution_count": 83,
   "metadata": {},
   "outputs": [
    {
     "output_type": "execute_result",
     "data": {
      "text/plain": "             Date      Open      High       Low     Close   Volume Market Cap\n309  Oct 31, 2016  0.181610  0.229291  0.177568  0.228251  917,488  9,080,500\n245  Jan 03, 2017  0.145645  0.147282  0.139653  0.140422   90,544  7,282,250\n215  Feb 02, 2017  0.147206  0.147974  0.134287  0.145699    2,973  7,360,300\n244  Jan 04, 2017  0.140294  0.142834  0.134433  0.136734   94,045  7,014,700\n355  Sep 15, 2016  0.325188  0.365124  0.325024  0.349832    1,982          -",
      "text/html": "<div>\n<style scoped>\n    .dataframe tbody tr th:only-of-type {\n        vertical-align: middle;\n    }\n\n    .dataframe tbody tr th {\n        vertical-align: top;\n    }\n\n    .dataframe thead th {\n        text-align: right;\n    }\n</style>\n<table border=\"1\" class=\"dataframe\">\n  <thead>\n    <tr style=\"text-align: right;\">\n      <th></th>\n      <th>Date</th>\n      <th>Open</th>\n      <th>High</th>\n      <th>Low</th>\n      <th>Close</th>\n      <th>Volume</th>\n      <th>Market Cap</th>\n    </tr>\n  </thead>\n  <tbody>\n    <tr>\n      <th>309</th>\n      <td>Oct 31, 2016</td>\n      <td>0.181610</td>\n      <td>0.229291</td>\n      <td>0.177568</td>\n      <td>0.228251</td>\n      <td>917,488</td>\n      <td>9,080,500</td>\n    </tr>\n    <tr>\n      <th>245</th>\n      <td>Jan 03, 2017</td>\n      <td>0.145645</td>\n      <td>0.147282</td>\n      <td>0.139653</td>\n      <td>0.140422</td>\n      <td>90,544</td>\n      <td>7,282,250</td>\n    </tr>\n    <tr>\n      <th>215</th>\n      <td>Feb 02, 2017</td>\n      <td>0.147206</td>\n      <td>0.147974</td>\n      <td>0.134287</td>\n      <td>0.145699</td>\n      <td>2,973</td>\n      <td>7,360,300</td>\n    </tr>\n    <tr>\n      <th>244</th>\n      <td>Jan 04, 2017</td>\n      <td>0.140294</td>\n      <td>0.142834</td>\n      <td>0.134433</td>\n      <td>0.136734</td>\n      <td>94,045</td>\n      <td>7,014,700</td>\n    </tr>\n    <tr>\n      <th>355</th>\n      <td>Sep 15, 2016</td>\n      <td>0.325188</td>\n      <td>0.365124</td>\n      <td>0.325024</td>\n      <td>0.349832</td>\n      <td>1,982</td>\n      <td>-</td>\n    </tr>\n  </tbody>\n</table>\n</div>"
     },
     "metadata": {},
     "execution_count": 83
    }
   ],
   "source": [
    "df12.sample(5)"
   ]
  },
  {
   "cell_type": "markdown",
   "metadata": {},
   "source": [
    "### numeraire_price.csv"
   ]
  },
  {
   "cell_type": "code",
   "execution_count": 85,
   "metadata": {},
   "outputs": [
    {
     "output_type": "execute_result",
     "data": {
      "text/plain": "           Date   Open   High    Low  Close     Volume  Market Cap\n0  Sep 05, 2017  20.87  23.62  18.91  21.53    349,885  26,115,800\n1  Sep 04, 2017  26.91  27.34  17.99  20.74    716,231  33,673,500\n2  Sep 03, 2017  27.70  29.36  24.99  26.90    493,926  34,662,300\n3  Sep 02, 2017  32.49  33.01  26.79  27.24    633,861  40,658,600\n4  Sep 01, 2017  35.67  35.90  31.35  32.45  1,024,920  44,636,600",
      "text/html": "<div>\n<style scoped>\n    .dataframe tbody tr th:only-of-type {\n        vertical-align: middle;\n    }\n\n    .dataframe tbody tr th {\n        vertical-align: top;\n    }\n\n    .dataframe thead th {\n        text-align: right;\n    }\n</style>\n<table border=\"1\" class=\"dataframe\">\n  <thead>\n    <tr style=\"text-align: right;\">\n      <th></th>\n      <th>Date</th>\n      <th>Open</th>\n      <th>High</th>\n      <th>Low</th>\n      <th>Close</th>\n      <th>Volume</th>\n      <th>Market Cap</th>\n    </tr>\n  </thead>\n  <tbody>\n    <tr>\n      <th>0</th>\n      <td>Sep 05, 2017</td>\n      <td>20.87</td>\n      <td>23.62</td>\n      <td>18.91</td>\n      <td>21.53</td>\n      <td>349,885</td>\n      <td>26,115,800</td>\n    </tr>\n    <tr>\n      <th>1</th>\n      <td>Sep 04, 2017</td>\n      <td>26.91</td>\n      <td>27.34</td>\n      <td>17.99</td>\n      <td>20.74</td>\n      <td>716,231</td>\n      <td>33,673,500</td>\n    </tr>\n    <tr>\n      <th>2</th>\n      <td>Sep 03, 2017</td>\n      <td>27.70</td>\n      <td>29.36</td>\n      <td>24.99</td>\n      <td>26.90</td>\n      <td>493,926</td>\n      <td>34,662,300</td>\n    </tr>\n    <tr>\n      <th>3</th>\n      <td>Sep 02, 2017</td>\n      <td>32.49</td>\n      <td>33.01</td>\n      <td>26.79</td>\n      <td>27.24</td>\n      <td>633,861</td>\n      <td>40,658,600</td>\n    </tr>\n    <tr>\n      <th>4</th>\n      <td>Sep 01, 2017</td>\n      <td>35.67</td>\n      <td>35.90</td>\n      <td>31.35</td>\n      <td>32.45</td>\n      <td>1,024,920</td>\n      <td>44,636,600</td>\n    </tr>\n  </tbody>\n</table>\n</div>"
     },
     "metadata": {},
     "execution_count": 85
    }
   ],
   "source": [
    "df13.head()"
   ]
  },
  {
   "cell_type": "code",
   "execution_count": 87,
   "metadata": {},
   "outputs": [
    {
     "output_type": "execute_result",
     "data": {
      "text/plain": "            Date   Open   High    Low  Close     Volume  Market Cap\n18  Aug 18, 2017  34.17  39.43  31.88  35.03  1,612,640  42,797,100\n2   Sep 03, 2017  27.70  29.36  24.99  26.90    493,926  34,662,300\n15  Aug 21, 2017  42.41  48.73  33.48  34.58  2,145,180  53,121,100\n20  Aug 16, 2017  31.27  37.92  30.37  33.62    864,797  39,176,900\n14  Aug 22, 2017  34.75  37.23  31.91  35.61    561,611  43,526,300",
      "text/html": "<div>\n<style scoped>\n    .dataframe tbody tr th:only-of-type {\n        vertical-align: middle;\n    }\n\n    .dataframe tbody tr th {\n        vertical-align: top;\n    }\n\n    .dataframe thead th {\n        text-align: right;\n    }\n</style>\n<table border=\"1\" class=\"dataframe\">\n  <thead>\n    <tr style=\"text-align: right;\">\n      <th></th>\n      <th>Date</th>\n      <th>Open</th>\n      <th>High</th>\n      <th>Low</th>\n      <th>Close</th>\n      <th>Volume</th>\n      <th>Market Cap</th>\n    </tr>\n  </thead>\n  <tbody>\n    <tr>\n      <th>18</th>\n      <td>Aug 18, 2017</td>\n      <td>34.17</td>\n      <td>39.43</td>\n      <td>31.88</td>\n      <td>35.03</td>\n      <td>1,612,640</td>\n      <td>42,797,100</td>\n    </tr>\n    <tr>\n      <th>2</th>\n      <td>Sep 03, 2017</td>\n      <td>27.70</td>\n      <td>29.36</td>\n      <td>24.99</td>\n      <td>26.90</td>\n      <td>493,926</td>\n      <td>34,662,300</td>\n    </tr>\n    <tr>\n      <th>15</th>\n      <td>Aug 21, 2017</td>\n      <td>42.41</td>\n      <td>48.73</td>\n      <td>33.48</td>\n      <td>34.58</td>\n      <td>2,145,180</td>\n      <td>53,121,100</td>\n    </tr>\n    <tr>\n      <th>20</th>\n      <td>Aug 16, 2017</td>\n      <td>31.27</td>\n      <td>37.92</td>\n      <td>30.37</td>\n      <td>33.62</td>\n      <td>864,797</td>\n      <td>39,176,900</td>\n    </tr>\n    <tr>\n      <th>14</th>\n      <td>Aug 22, 2017</td>\n      <td>34.75</td>\n      <td>37.23</td>\n      <td>31.91</td>\n      <td>35.61</td>\n      <td>561,611</td>\n      <td>43,526,300</td>\n    </tr>\n  </tbody>\n</table>\n</div>"
     },
     "metadata": {},
     "execution_count": 87
    }
   ],
   "source": [
    "df13.sample(5)"
   ]
  },
  {
   "cell_type": "markdown",
   "metadata": {},
   "source": [
    "### omisego_price.csv"
   ]
  },
  {
   "cell_type": "code",
   "execution_count": 89,
   "metadata": {},
   "outputs": [
    {
     "output_type": "execute_result",
     "data": {
      "text/plain": "           Date   Open   High    Low  Close       Volume     Market Cap\n0  Sep 05, 2017   8.68  11.28   7.60  10.98  111,430,000    852,870,000\n1  Sep 04, 2017  10.55  10.55   7.31   8.78  159,979,000  1,037,440,000\n2  Sep 03, 2017  10.79  11.37   9.64  10.57   68,616,800  1,060,760,000\n3  Sep 02, 2017  11.99  11.99   9.96  10.80   93,561,000  1,178,610,000\n4  Sep 01, 2017  11.73  12.52  11.63  11.97   91,962,400  1,153,390,000",
      "text/html": "<div>\n<style scoped>\n    .dataframe tbody tr th:only-of-type {\n        vertical-align: middle;\n    }\n\n    .dataframe tbody tr th {\n        vertical-align: top;\n    }\n\n    .dataframe thead th {\n        text-align: right;\n    }\n</style>\n<table border=\"1\" class=\"dataframe\">\n  <thead>\n    <tr style=\"text-align: right;\">\n      <th></th>\n      <th>Date</th>\n      <th>Open</th>\n      <th>High</th>\n      <th>Low</th>\n      <th>Close</th>\n      <th>Volume</th>\n      <th>Market Cap</th>\n    </tr>\n  </thead>\n  <tbody>\n    <tr>\n      <th>0</th>\n      <td>Sep 05, 2017</td>\n      <td>8.68</td>\n      <td>11.28</td>\n      <td>7.60</td>\n      <td>10.98</td>\n      <td>111,430,000</td>\n      <td>852,870,000</td>\n    </tr>\n    <tr>\n      <th>1</th>\n      <td>Sep 04, 2017</td>\n      <td>10.55</td>\n      <td>10.55</td>\n      <td>7.31</td>\n      <td>8.78</td>\n      <td>159,979,000</td>\n      <td>1,037,440,000</td>\n    </tr>\n    <tr>\n      <th>2</th>\n      <td>Sep 03, 2017</td>\n      <td>10.79</td>\n      <td>11.37</td>\n      <td>9.64</td>\n      <td>10.57</td>\n      <td>68,616,800</td>\n      <td>1,060,760,000</td>\n    </tr>\n    <tr>\n      <th>3</th>\n      <td>Sep 02, 2017</td>\n      <td>11.99</td>\n      <td>11.99</td>\n      <td>9.96</td>\n      <td>10.80</td>\n      <td>93,561,000</td>\n      <td>1,178,610,000</td>\n    </tr>\n    <tr>\n      <th>4</th>\n      <td>Sep 01, 2017</td>\n      <td>11.73</td>\n      <td>12.52</td>\n      <td>11.63</td>\n      <td>11.97</td>\n      <td>91,962,400</td>\n      <td>1,153,390,000</td>\n    </tr>\n  </tbody>\n</table>\n</div>"
     },
     "metadata": {},
     "execution_count": 89
    }
   ],
   "source": [
    "df14.head()"
   ]
  },
  {
   "cell_type": "code",
   "execution_count": 91,
   "metadata": {},
   "outputs": [
    {
     "output_type": "execute_result",
     "data": {
      "text/plain": "            Date  Open  High   Low  Close       Volume   Market Cap\n26  Aug 10, 2017  3.41  6.36  3.38   5.93  234,693,000  335,183,000\n11  Aug 25, 2017  8.38  8.46  8.04   8.27   24,205,300  823,620,000\n7   Aug 29, 2017  8.58  9.62  8.45   9.46   86,155,000  843,249,000\n23  Aug 13, 2017  6.18  7.53  5.36   6.94  128,909,000  607,772,000\n19  Aug 17, 2017  8.89  9.47  8.29   8.40  131,488,000  873,548,000",
      "text/html": "<div>\n<style scoped>\n    .dataframe tbody tr th:only-of-type {\n        vertical-align: middle;\n    }\n\n    .dataframe tbody tr th {\n        vertical-align: top;\n    }\n\n    .dataframe thead th {\n        text-align: right;\n    }\n</style>\n<table border=\"1\" class=\"dataframe\">\n  <thead>\n    <tr style=\"text-align: right;\">\n      <th></th>\n      <th>Date</th>\n      <th>Open</th>\n      <th>High</th>\n      <th>Low</th>\n      <th>Close</th>\n      <th>Volume</th>\n      <th>Market Cap</th>\n    </tr>\n  </thead>\n  <tbody>\n    <tr>\n      <th>26</th>\n      <td>Aug 10, 2017</td>\n      <td>3.41</td>\n      <td>6.36</td>\n      <td>3.38</td>\n      <td>5.93</td>\n      <td>234,693,000</td>\n      <td>335,183,000</td>\n    </tr>\n    <tr>\n      <th>11</th>\n      <td>Aug 25, 2017</td>\n      <td>8.38</td>\n      <td>8.46</td>\n      <td>8.04</td>\n      <td>8.27</td>\n      <td>24,205,300</td>\n      <td>823,620,000</td>\n    </tr>\n    <tr>\n      <th>7</th>\n      <td>Aug 29, 2017</td>\n      <td>8.58</td>\n      <td>9.62</td>\n      <td>8.45</td>\n      <td>9.46</td>\n      <td>86,155,000</td>\n      <td>843,249,000</td>\n    </tr>\n    <tr>\n      <th>23</th>\n      <td>Aug 13, 2017</td>\n      <td>6.18</td>\n      <td>7.53</td>\n      <td>5.36</td>\n      <td>6.94</td>\n      <td>128,909,000</td>\n      <td>607,772,000</td>\n    </tr>\n    <tr>\n      <th>19</th>\n      <td>Aug 17, 2017</td>\n      <td>8.89</td>\n      <td>9.47</td>\n      <td>8.29</td>\n      <td>8.40</td>\n      <td>131,488,000</td>\n      <td>873,548,000</td>\n    </tr>\n  </tbody>\n</table>\n</div>"
     },
     "metadata": {},
     "execution_count": 91
    }
   ],
   "source": [
    "df14.sample(5)"
   ]
  },
  {
   "cell_type": "markdown",
   "metadata": {},
   "source": [
    "### qtum_price.csv"
   ]
  },
  {
   "cell_type": "code",
   "execution_count": 93,
   "metadata": {},
   "outputs": [
    {
     "output_type": "execute_result",
     "data": {
      "text/plain": "           Date   Open   High    Low  Close       Volume     Market Cap\n0  Sep 05, 2017  11.07  12.07   8.77  11.71  218,917,000    653,177,000\n1  Sep 04, 2017  15.29  15.44  10.22  10.98  161,203,000    902,407,000\n2  Sep 03, 2017  16.41  16.74  14.19  15.29   98,105,400    967,971,000\n3  Sep 02, 2017  18.26  19.06  15.51  16.39  123,479,000  1,077,370,000\n4  Sep 01, 2017  17.30  18.47  16.94  18.26   73,618,500  1,020,980,000",
      "text/html": "<div>\n<style scoped>\n    .dataframe tbody tr th:only-of-type {\n        vertical-align: middle;\n    }\n\n    .dataframe tbody tr th {\n        vertical-align: top;\n    }\n\n    .dataframe thead th {\n        text-align: right;\n    }\n</style>\n<table border=\"1\" class=\"dataframe\">\n  <thead>\n    <tr style=\"text-align: right;\">\n      <th></th>\n      <th>Date</th>\n      <th>Open</th>\n      <th>High</th>\n      <th>Low</th>\n      <th>Close</th>\n      <th>Volume</th>\n      <th>Market Cap</th>\n    </tr>\n  </thead>\n  <tbody>\n    <tr>\n      <th>0</th>\n      <td>Sep 05, 2017</td>\n      <td>11.07</td>\n      <td>12.07</td>\n      <td>8.77</td>\n      <td>11.71</td>\n      <td>218,917,000</td>\n      <td>653,177,000</td>\n    </tr>\n    <tr>\n      <th>1</th>\n      <td>Sep 04, 2017</td>\n      <td>15.29</td>\n      <td>15.44</td>\n      <td>10.22</td>\n      <td>10.98</td>\n      <td>161,203,000</td>\n      <td>902,407,000</td>\n    </tr>\n    <tr>\n      <th>2</th>\n      <td>Sep 03, 2017</td>\n      <td>16.41</td>\n      <td>16.74</td>\n      <td>14.19</td>\n      <td>15.29</td>\n      <td>98,105,400</td>\n      <td>967,971,000</td>\n    </tr>\n    <tr>\n      <th>3</th>\n      <td>Sep 02, 2017</td>\n      <td>18.26</td>\n      <td>19.06</td>\n      <td>15.51</td>\n      <td>16.39</td>\n      <td>123,479,000</td>\n      <td>1,077,370,000</td>\n    </tr>\n    <tr>\n      <th>4</th>\n      <td>Sep 01, 2017</td>\n      <td>17.30</td>\n      <td>18.47</td>\n      <td>16.94</td>\n      <td>18.26</td>\n      <td>73,618,500</td>\n      <td>1,020,980,000</td>\n    </tr>\n  </tbody>\n</table>\n</div>"
     },
     "metadata": {},
     "execution_count": 93
    }
   ],
   "source": [
    "df15.head()"
   ]
  },
  {
   "cell_type": "code",
   "execution_count": 95,
   "metadata": {},
   "outputs": [
    {
     "output_type": "execute_result",
     "data": {
      "text/plain": "            Date   Open   High    Low  Close      Volume   Market Cap\n23  Aug 13, 2017  13.92  15.84  12.79  15.17  75,650,500  821,280,000\n18  Aug 18, 2017  13.09  13.09  11.00  11.63  43,226,400  772,302,000\n2   Sep 03, 2017  16.41  16.74  14.19  15.29  98,105,400  967,971,000\n10  Aug 26, 2017  13.26  15.89  12.97  15.41  88,172,500  782,374,000\n11  Aug 25, 2017  13.75  13.85  12.85  13.32  26,327,100  811,035,000",
      "text/html": "<div>\n<style scoped>\n    .dataframe tbody tr th:only-of-type {\n        vertical-align: middle;\n    }\n\n    .dataframe tbody tr th {\n        vertical-align: top;\n    }\n\n    .dataframe thead th {\n        text-align: right;\n    }\n</style>\n<table border=\"1\" class=\"dataframe\">\n  <thead>\n    <tr style=\"text-align: right;\">\n      <th></th>\n      <th>Date</th>\n      <th>Open</th>\n      <th>High</th>\n      <th>Low</th>\n      <th>Close</th>\n      <th>Volume</th>\n      <th>Market Cap</th>\n    </tr>\n  </thead>\n  <tbody>\n    <tr>\n      <th>23</th>\n      <td>Aug 13, 2017</td>\n      <td>13.92</td>\n      <td>15.84</td>\n      <td>12.79</td>\n      <td>15.17</td>\n      <td>75,650,500</td>\n      <td>821,280,000</td>\n    </tr>\n    <tr>\n      <th>18</th>\n      <td>Aug 18, 2017</td>\n      <td>13.09</td>\n      <td>13.09</td>\n      <td>11.00</td>\n      <td>11.63</td>\n      <td>43,226,400</td>\n      <td>772,302,000</td>\n    </tr>\n    <tr>\n      <th>2</th>\n      <td>Sep 03, 2017</td>\n      <td>16.41</td>\n      <td>16.74</td>\n      <td>14.19</td>\n      <td>15.29</td>\n      <td>98,105,400</td>\n      <td>967,971,000</td>\n    </tr>\n    <tr>\n      <th>10</th>\n      <td>Aug 26, 2017</td>\n      <td>13.26</td>\n      <td>15.89</td>\n      <td>12.97</td>\n      <td>15.41</td>\n      <td>88,172,500</td>\n      <td>782,374,000</td>\n    </tr>\n    <tr>\n      <th>11</th>\n      <td>Aug 25, 2017</td>\n      <td>13.75</td>\n      <td>13.85</td>\n      <td>12.85</td>\n      <td>13.32</td>\n      <td>26,327,100</td>\n      <td>811,035,000</td>\n    </tr>\n  </tbody>\n</table>\n</div>"
     },
     "metadata": {},
     "execution_count": 95
    }
   ],
   "source": [
    "df15.sample(5)"
   ]
  },
  {
   "cell_type": "markdown",
   "metadata": {},
   "source": [
    "### ripple_price.csv"
   ]
  },
  {
   "cell_type": "code",
   "execution_count": 97,
   "metadata": {},
   "outputs": [
    {
     "output_type": "execute_result",
     "data": {
      "text/plain": "           Date      Open      High       Low     Close       Volume  \\\n0  Sep 05, 2017  0.205110  0.218674  0.190232  0.215189  242,636,000   \n1  Sep 04, 2017  0.228781  0.228781  0.195960  0.204968  239,613,000   \n2  Sep 03, 2017  0.227229  0.236443  0.218662  0.228811  186,526,000   \n3  Sep 02, 2017  0.249348  0.249680  0.217774  0.226669  329,928,000   \n4  Sep 01, 2017  0.255803  0.256162  0.243833  0.248479  283,576,000   \n\n      Market Cap  \n0  7,864,700,000  \n1  8,772,340,000  \n2  8,712,840,000  \n3  9,560,940,000  \n4  9,808,460,000  ",
      "text/html": "<div>\n<style scoped>\n    .dataframe tbody tr th:only-of-type {\n        vertical-align: middle;\n    }\n\n    .dataframe tbody tr th {\n        vertical-align: top;\n    }\n\n    .dataframe thead th {\n        text-align: right;\n    }\n</style>\n<table border=\"1\" class=\"dataframe\">\n  <thead>\n    <tr style=\"text-align: right;\">\n      <th></th>\n      <th>Date</th>\n      <th>Open</th>\n      <th>High</th>\n      <th>Low</th>\n      <th>Close</th>\n      <th>Volume</th>\n      <th>Market Cap</th>\n    </tr>\n  </thead>\n  <tbody>\n    <tr>\n      <th>0</th>\n      <td>Sep 05, 2017</td>\n      <td>0.205110</td>\n      <td>0.218674</td>\n      <td>0.190232</td>\n      <td>0.215189</td>\n      <td>242,636,000</td>\n      <td>7,864,700,000</td>\n    </tr>\n    <tr>\n      <th>1</th>\n      <td>Sep 04, 2017</td>\n      <td>0.228781</td>\n      <td>0.228781</td>\n      <td>0.195960</td>\n      <td>0.204968</td>\n      <td>239,613,000</td>\n      <td>8,772,340,000</td>\n    </tr>\n    <tr>\n      <th>2</th>\n      <td>Sep 03, 2017</td>\n      <td>0.227229</td>\n      <td>0.236443</td>\n      <td>0.218662</td>\n      <td>0.228811</td>\n      <td>186,526,000</td>\n      <td>8,712,840,000</td>\n    </tr>\n    <tr>\n      <th>3</th>\n      <td>Sep 02, 2017</td>\n      <td>0.249348</td>\n      <td>0.249680</td>\n      <td>0.217774</td>\n      <td>0.226669</td>\n      <td>329,928,000</td>\n      <td>9,560,940,000</td>\n    </tr>\n    <tr>\n      <th>4</th>\n      <td>Sep 01, 2017</td>\n      <td>0.255803</td>\n      <td>0.256162</td>\n      <td>0.243833</td>\n      <td>0.248479</td>\n      <td>283,576,000</td>\n      <td>9,808,460,000</td>\n    </tr>\n  </tbody>\n</table>\n</div>"
     },
     "metadata": {},
     "execution_count": 97
    }
   ],
   "source": [
    "df16.head()"
   ]
  },
  {
   "cell_type": "code",
   "execution_count": 99,
   "metadata": {},
   "outputs": [
    {
     "output_type": "execute_result",
     "data": {
      "text/plain": "              Date      Open      High       Low     Close       Volume  \\\n1306  Feb 07, 2014  0.019780  0.019780  0.016606  0.018377      153,029   \n97    May 31, 2017  0.205360  0.247677  0.193839  0.246590  160,620,000   \n1140  Jul 23, 2014  0.005647  0.006150  0.005644  0.006144      327,880   \n585   Jan 29, 2016  0.006228  0.006906  0.005922  0.006840    2,895,430   \n1239  Apr 15, 2014  0.006513  0.007719  0.006375  0.007719      274,616   \n\n         Market Cap  \n1306    154,639,000  \n97    7,854,880,000  \n1140     44,145,400  \n585     211,267,000  \n1239     50,917,900  ",
      "text/html": "<div>\n<style scoped>\n    .dataframe tbody tr th:only-of-type {\n        vertical-align: middle;\n    }\n\n    .dataframe tbody tr th {\n        vertical-align: top;\n    }\n\n    .dataframe thead th {\n        text-align: right;\n    }\n</style>\n<table border=\"1\" class=\"dataframe\">\n  <thead>\n    <tr style=\"text-align: right;\">\n      <th></th>\n      <th>Date</th>\n      <th>Open</th>\n      <th>High</th>\n      <th>Low</th>\n      <th>Close</th>\n      <th>Volume</th>\n      <th>Market Cap</th>\n    </tr>\n  </thead>\n  <tbody>\n    <tr>\n      <th>1306</th>\n      <td>Feb 07, 2014</td>\n      <td>0.019780</td>\n      <td>0.019780</td>\n      <td>0.016606</td>\n      <td>0.018377</td>\n      <td>153,029</td>\n      <td>154,639,000</td>\n    </tr>\n    <tr>\n      <th>97</th>\n      <td>May 31, 2017</td>\n      <td>0.205360</td>\n      <td>0.247677</td>\n      <td>0.193839</td>\n      <td>0.246590</td>\n      <td>160,620,000</td>\n      <td>7,854,880,000</td>\n    </tr>\n    <tr>\n      <th>1140</th>\n      <td>Jul 23, 2014</td>\n      <td>0.005647</td>\n      <td>0.006150</td>\n      <td>0.005644</td>\n      <td>0.006144</td>\n      <td>327,880</td>\n      <td>44,145,400</td>\n    </tr>\n    <tr>\n      <th>585</th>\n      <td>Jan 29, 2016</td>\n      <td>0.006228</td>\n      <td>0.006906</td>\n      <td>0.005922</td>\n      <td>0.006840</td>\n      <td>2,895,430</td>\n      <td>211,267,000</td>\n    </tr>\n    <tr>\n      <th>1239</th>\n      <td>Apr 15, 2014</td>\n      <td>0.006513</td>\n      <td>0.007719</td>\n      <td>0.006375</td>\n      <td>0.007719</td>\n      <td>274,616</td>\n      <td>50,917,900</td>\n    </tr>\n  </tbody>\n</table>\n</div>"
     },
     "metadata": {},
     "execution_count": 99
    }
   ],
   "source": [
    "df16.sample(5)"
   ]
  },
  {
   "cell_type": "markdown",
   "metadata": {},
   "source": [
    "### stratis_price.csv"
   ]
  },
  {
   "cell_type": "code",
   "execution_count": 100,
   "metadata": {},
   "outputs": [
    {
     "output_type": "execute_result",
     "data": {
      "text/plain": "           Date  Open  High   Low  Close      Volume   Market Cap\n0  Sep 05, 2017  5.79  6.23  5.11   6.03   8,514,110  570,643,000\n1  Sep 04, 2017  6.61  6.74  5.35   5.77  14,669,700  651,334,000\n2  Sep 03, 2017  6.36  6.59  5.99   6.59   8,487,740  626,826,000\n3  Sep 02, 2017  7.27  7.27  6.18   6.34  11,500,400  716,038,000\n4  Sep 01, 2017  7.28  7.78  6.97   7.25  22,610,800  717,199,000",
      "text/html": "<div>\n<style scoped>\n    .dataframe tbody tr th:only-of-type {\n        vertical-align: middle;\n    }\n\n    .dataframe tbody tr th {\n        vertical-align: top;\n    }\n\n    .dataframe thead th {\n        text-align: right;\n    }\n</style>\n<table border=\"1\" class=\"dataframe\">\n  <thead>\n    <tr style=\"text-align: right;\">\n      <th></th>\n      <th>Date</th>\n      <th>Open</th>\n      <th>High</th>\n      <th>Low</th>\n      <th>Close</th>\n      <th>Volume</th>\n      <th>Market Cap</th>\n    </tr>\n  </thead>\n  <tbody>\n    <tr>\n      <th>0</th>\n      <td>Sep 05, 2017</td>\n      <td>5.79</td>\n      <td>6.23</td>\n      <td>5.11</td>\n      <td>6.03</td>\n      <td>8,514,110</td>\n      <td>570,643,000</td>\n    </tr>\n    <tr>\n      <th>1</th>\n      <td>Sep 04, 2017</td>\n      <td>6.61</td>\n      <td>6.74</td>\n      <td>5.35</td>\n      <td>5.77</td>\n      <td>14,669,700</td>\n      <td>651,334,000</td>\n    </tr>\n    <tr>\n      <th>2</th>\n      <td>Sep 03, 2017</td>\n      <td>6.36</td>\n      <td>6.59</td>\n      <td>5.99</td>\n      <td>6.59</td>\n      <td>8,487,740</td>\n      <td>626,826,000</td>\n    </tr>\n    <tr>\n      <th>3</th>\n      <td>Sep 02, 2017</td>\n      <td>7.27</td>\n      <td>7.27</td>\n      <td>6.18</td>\n      <td>6.34</td>\n      <td>11,500,400</td>\n      <td>716,038,000</td>\n    </tr>\n    <tr>\n      <th>4</th>\n      <td>Sep 01, 2017</td>\n      <td>7.28</td>\n      <td>7.78</td>\n      <td>6.97</td>\n      <td>7.25</td>\n      <td>22,610,800</td>\n      <td>717,199,000</td>\n    </tr>\n  </tbody>\n</table>\n</div>"
     },
     "metadata": {},
     "execution_count": 100
    }
   ],
   "source": [
    "df17.head()"
   ]
  },
  {
   "cell_type": "code",
   "execution_count": 101,
   "metadata": {},
   "outputs": [
    {
     "output_type": "execute_result",
     "data": {
      "text/plain": "             Date       Open       High       Low      Close      Volume  \\\n120  May 08, 2017   1.180000   1.220000  1.100000   1.180000   2,535,400   \n352  Sep 18, 2016   0.033564   0.037033  0.033278   0.036501      39,581   \n91   Jun 06, 2017  10.480000  11.100000  9.870000  10.620000  24,926,500   \n129  Apr 29, 2017   0.684901   0.729943  0.646585   0.729943   1,296,150   \n221  Jan 27, 2017   0.085806   0.114132  0.084951   0.105177     700,301   \n\n        Market Cap  \n120    116,185,000  \n352      3,291,830  \n91   1,031,430,000  \n129     67,369,700  \n221      8,430,090  ",
      "text/html": "<div>\n<style scoped>\n    .dataframe tbody tr th:only-of-type {\n        vertical-align: middle;\n    }\n\n    .dataframe tbody tr th {\n        vertical-align: top;\n    }\n\n    .dataframe thead th {\n        text-align: right;\n    }\n</style>\n<table border=\"1\" class=\"dataframe\">\n  <thead>\n    <tr style=\"text-align: right;\">\n      <th></th>\n      <th>Date</th>\n      <th>Open</th>\n      <th>High</th>\n      <th>Low</th>\n      <th>Close</th>\n      <th>Volume</th>\n      <th>Market Cap</th>\n    </tr>\n  </thead>\n  <tbody>\n    <tr>\n      <th>120</th>\n      <td>May 08, 2017</td>\n      <td>1.180000</td>\n      <td>1.220000</td>\n      <td>1.100000</td>\n      <td>1.180000</td>\n      <td>2,535,400</td>\n      <td>116,185,000</td>\n    </tr>\n    <tr>\n      <th>352</th>\n      <td>Sep 18, 2016</td>\n      <td>0.033564</td>\n      <td>0.037033</td>\n      <td>0.033278</td>\n      <td>0.036501</td>\n      <td>39,581</td>\n      <td>3,291,830</td>\n    </tr>\n    <tr>\n      <th>91</th>\n      <td>Jun 06, 2017</td>\n      <td>10.480000</td>\n      <td>11.100000</td>\n      <td>9.870000</td>\n      <td>10.620000</td>\n      <td>24,926,500</td>\n      <td>1,031,430,000</td>\n    </tr>\n    <tr>\n      <th>129</th>\n      <td>Apr 29, 2017</td>\n      <td>0.684901</td>\n      <td>0.729943</td>\n      <td>0.646585</td>\n      <td>0.729943</td>\n      <td>1,296,150</td>\n      <td>67,369,700</td>\n    </tr>\n    <tr>\n      <th>221</th>\n      <td>Jan 27, 2017</td>\n      <td>0.085806</td>\n      <td>0.114132</td>\n      <td>0.084951</td>\n      <td>0.105177</td>\n      <td>700,301</td>\n      <td>8,430,090</td>\n    </tr>\n  </tbody>\n</table>\n</div>"
     },
     "metadata": {},
     "execution_count": 101
    }
   ],
   "source": [
    "df17.sample(5)"
   ]
  },
  {
   "cell_type": "markdown",
   "metadata": {},
   "source": [
    "### waves_price.csv"
   ]
  },
  {
   "cell_type": "code",
   "execution_count": 102,
   "metadata": {},
   "outputs": [
    {
     "output_type": "execute_result",
     "data": {
      "text/plain": "           Date  Open  High   Low  Close     Volume   Market Cap\n0  Sep 05, 2017  4.68  5.10  4.32   4.98  6,194,560  467,862,000\n1  Sep 04, 2017  5.20  5.21  4.24   4.66  8,324,540  519,570,000\n2  Sep 03, 2017  5.27  5.50  4.99   5.20  5,174,780  526,827,000\n3  Sep 02, 2017  5.78  5.87  5.07   5.23  6,608,910  577,688,000\n4  Sep 01, 2017  5.95  6.10  5.72   5.74  9,556,080  595,498,000",
      "text/html": "<div>\n<style scoped>\n    .dataframe tbody tr th:only-of-type {\n        vertical-align: middle;\n    }\n\n    .dataframe tbody tr th {\n        vertical-align: top;\n    }\n\n    .dataframe thead th {\n        text-align: right;\n    }\n</style>\n<table border=\"1\" class=\"dataframe\">\n  <thead>\n    <tr style=\"text-align: right;\">\n      <th></th>\n      <th>Date</th>\n      <th>Open</th>\n      <th>High</th>\n      <th>Low</th>\n      <th>Close</th>\n      <th>Volume</th>\n      <th>Market Cap</th>\n    </tr>\n  </thead>\n  <tbody>\n    <tr>\n      <th>0</th>\n      <td>Sep 05, 2017</td>\n      <td>4.68</td>\n      <td>5.10</td>\n      <td>4.32</td>\n      <td>4.98</td>\n      <td>6,194,560</td>\n      <td>467,862,000</td>\n    </tr>\n    <tr>\n      <th>1</th>\n      <td>Sep 04, 2017</td>\n      <td>5.20</td>\n      <td>5.21</td>\n      <td>4.24</td>\n      <td>4.66</td>\n      <td>8,324,540</td>\n      <td>519,570,000</td>\n    </tr>\n    <tr>\n      <th>2</th>\n      <td>Sep 03, 2017</td>\n      <td>5.27</td>\n      <td>5.50</td>\n      <td>4.99</td>\n      <td>5.20</td>\n      <td>5,174,780</td>\n      <td>526,827,000</td>\n    </tr>\n    <tr>\n      <th>3</th>\n      <td>Sep 02, 2017</td>\n      <td>5.78</td>\n      <td>5.87</td>\n      <td>5.07</td>\n      <td>5.23</td>\n      <td>6,608,910</td>\n      <td>577,688,000</td>\n    </tr>\n    <tr>\n      <th>4</th>\n      <td>Sep 01, 2017</td>\n      <td>5.95</td>\n      <td>6.10</td>\n      <td>5.72</td>\n      <td>5.74</td>\n      <td>9,556,080</td>\n      <td>595,498,000</td>\n    </tr>\n  </tbody>\n</table>\n</div>"
     },
     "metadata": {},
     "execution_count": 102
    }
   ],
   "source": [
    "df18.head()"
   ]
  },
  {
   "cell_type": "code",
   "execution_count": 103,
   "metadata": {},
   "outputs": [
    {
     "output_type": "execute_result",
     "data": {
      "text/plain": "             Date      Open      High       Low     Close     Volume  \\\n311  Oct 29, 2016  0.337976  0.365120  0.335099  0.346814    255,905   \n334  Oct 06, 2016  0.213054  0.219085  0.202732  0.211073    115,933   \n261  Dec 18, 2016  0.239889  0.247294  0.217304  0.228503     21,916   \n9    Aug 27, 2017  5.340000  5.510000  5.180000  5.230000  7,212,980   \n241  Jan 07, 2017  0.212612  0.226794  0.193454  0.217580     42,203   \n\n      Market Cap  \n311   33,797,600  \n334   21,305,400  \n261   23,988,900  \n9    534,242,000  \n241   21,261,200  ",
      "text/html": "<div>\n<style scoped>\n    .dataframe tbody tr th:only-of-type {\n        vertical-align: middle;\n    }\n\n    .dataframe tbody tr th {\n        vertical-align: top;\n    }\n\n    .dataframe thead th {\n        text-align: right;\n    }\n</style>\n<table border=\"1\" class=\"dataframe\">\n  <thead>\n    <tr style=\"text-align: right;\">\n      <th></th>\n      <th>Date</th>\n      <th>Open</th>\n      <th>High</th>\n      <th>Low</th>\n      <th>Close</th>\n      <th>Volume</th>\n      <th>Market Cap</th>\n    </tr>\n  </thead>\n  <tbody>\n    <tr>\n      <th>311</th>\n      <td>Oct 29, 2016</td>\n      <td>0.337976</td>\n      <td>0.365120</td>\n      <td>0.335099</td>\n      <td>0.346814</td>\n      <td>255,905</td>\n      <td>33,797,600</td>\n    </tr>\n    <tr>\n      <th>334</th>\n      <td>Oct 06, 2016</td>\n      <td>0.213054</td>\n      <td>0.219085</td>\n      <td>0.202732</td>\n      <td>0.211073</td>\n      <td>115,933</td>\n      <td>21,305,400</td>\n    </tr>\n    <tr>\n      <th>261</th>\n      <td>Dec 18, 2016</td>\n      <td>0.239889</td>\n      <td>0.247294</td>\n      <td>0.217304</td>\n      <td>0.228503</td>\n      <td>21,916</td>\n      <td>23,988,900</td>\n    </tr>\n    <tr>\n      <th>9</th>\n      <td>Aug 27, 2017</td>\n      <td>5.340000</td>\n      <td>5.510000</td>\n      <td>5.180000</td>\n      <td>5.230000</td>\n      <td>7,212,980</td>\n      <td>534,242,000</td>\n    </tr>\n    <tr>\n      <th>241</th>\n      <td>Jan 07, 2017</td>\n      <td>0.212612</td>\n      <td>0.226794</td>\n      <td>0.193454</td>\n      <td>0.217580</td>\n      <td>42,203</td>\n      <td>21,261,200</td>\n    </tr>\n  </tbody>\n</table>\n</div>"
     },
     "metadata": {},
     "execution_count": 103
    }
   ],
   "source": [
    "df18.sample(5)"
   ]
  },
  {
   "cell_type": "markdown",
   "metadata": {},
   "source": [
    "## References\n",
    "\n",
    "\\[1\\] [Pandas Documentation](https://pandas.pydata.org/docs/)"
   ]
  },
  {
   "cell_type": "code",
   "execution_count": null,
   "metadata": {},
   "outputs": [],
   "source": []
  }
 ],
 "metadata": {
  "language_info": {
   "codemirror_mode": {
    "name": "ipython",
    "version": 3
   },
   "file_extension": ".py",
   "mimetype": "text/x-python",
   "name": "python",
   "nbconvert_exporter": "python",
   "pygments_lexer": "ipython3",
   "version": "3.7.4-final"
  },
  "orig_nbformat": 2,
  "kernelspec": {
   "name": "python3",
   "display_name": "Python 3"
  }
 },
 "nbformat": 4,
 "nbformat_minor": 2
}