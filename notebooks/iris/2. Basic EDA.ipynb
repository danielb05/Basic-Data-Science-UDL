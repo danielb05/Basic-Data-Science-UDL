{
 "cells": [
  {
   "cell_type": "markdown",
   "metadata": {},
   "source": [
    "# Basic Iris EDA\n",
    "\n",
    "Once we know how to load and preprocess the `iris.data` file ([Notebook here](notebooks/iris/1.\\ Read\\ the\\ data.ipynb)), we can continue by doing a simple explanatory data analysis (EDA) and data visualization.\n",
    "\n",
    "## Notebook Technologies\n",
    "\n",
    "In this section, we explain the technologies and python packages that we are going to using throughout the kernel. We only explain the *never seen* technologies in this project. For instance, now, we are going to skip the `pandas` explanation because we have already explained it inside a previous notebook.\n",
    "\n",
    "In this notebook we are going to use:\n",
    "\n",
    "- `matplotlib`: It is a Python package that provides a simple to use API to generate high valuable plots such as, scatter plots, bar plots...\n",
    "- `scikit-learn`: It is a python package that provides Simple and efficient tools for predictive data analysis. "
   ]
  },
  {
   "cell_type": "code",
   "execution_count": 1,
   "metadata": {},
   "outputs": [],
   "source": [
    "from pathlib import Path\n",
    "\n",
    "import numpy as np\n",
    "import pandas as pd\n",
    "import matplotlib.pyplot as plt\n",
    "from sklearn.decomposition import PCA"
   ]
  },
  {
   "cell_type": "code",
   "execution_count": 2,
   "metadata": {},
   "outputs": [],
   "source": [
    "DATA_PATH = Path('../../data/processed')"
   ]
  },
  {
   "cell_type": "code",
   "execution_count": 3,
   "metadata": {},
   "outputs": [
    {
     "data": {
      "text/html": [
       "<div>\n",
       "<style scoped>\n",
       "    .dataframe tbody tr th:only-of-type {\n",
       "        vertical-align: middle;\n",
       "    }\n",
       "\n",
       "    .dataframe tbody tr th {\n",
       "        vertical-align: top;\n",
       "    }\n",
       "\n",
       "    .dataframe thead th {\n",
       "        text-align: right;\n",
       "    }\n",
       "</style>\n",
       "<table border=\"1\" class=\"dataframe\">\n",
       "  <thead>\n",
       "    <tr style=\"text-align: right;\">\n",
       "      <th></th>\n",
       "      <th>sepal_length</th>\n",
       "      <th>sepal_width</th>\n",
       "      <th>petal_length</th>\n",
       "      <th>petal_width</th>\n",
       "      <th>class</th>\n",
       "    </tr>\n",
       "  </thead>\n",
       "  <tbody>\n",
       "    <tr>\n",
       "      <th>0</th>\n",
       "      <td>5.1</td>\n",
       "      <td>3.5</td>\n",
       "      <td>1.4</td>\n",
       "      <td>0.2</td>\n",
       "      <td>Iris-setosa</td>\n",
       "    </tr>\n",
       "    <tr>\n",
       "      <th>1</th>\n",
       "      <td>4.9</td>\n",
       "      <td>3.0</td>\n",
       "      <td>1.4</td>\n",
       "      <td>0.2</td>\n",
       "      <td>Iris-setosa</td>\n",
       "    </tr>\n",
       "    <tr>\n",
       "      <th>2</th>\n",
       "      <td>4.7</td>\n",
       "      <td>3.2</td>\n",
       "      <td>1.3</td>\n",
       "      <td>0.2</td>\n",
       "      <td>Iris-setosa</td>\n",
       "    </tr>\n",
       "    <tr>\n",
       "      <th>3</th>\n",
       "      <td>4.6</td>\n",
       "      <td>3.1</td>\n",
       "      <td>1.5</td>\n",
       "      <td>0.2</td>\n",
       "      <td>Iris-setosa</td>\n",
       "    </tr>\n",
       "    <tr>\n",
       "      <th>4</th>\n",
       "      <td>5.0</td>\n",
       "      <td>3.6</td>\n",
       "      <td>1.4</td>\n",
       "      <td>0.2</td>\n",
       "      <td>Iris-setosa</td>\n",
       "    </tr>\n",
       "  </tbody>\n",
       "</table>\n",
       "</div>"
      ],
      "text/plain": [
       "   sepal_length  sepal_width  petal_length  petal_width        class\n",
       "0           5.1          3.5           1.4          0.2  Iris-setosa\n",
       "1           4.9          3.0           1.4          0.2  Iris-setosa\n",
       "2           4.7          3.2           1.3          0.2  Iris-setosa\n",
       "3           4.6          3.1           1.5          0.2  Iris-setosa\n",
       "4           5.0          3.6           1.4          0.2  Iris-setosa"
      ]
     },
     "execution_count": 3,
     "metadata": {},
     "output_type": "execute_result"
    }
   ],
   "source": [
    "df = pd.read_csv(DATA_PATH / 'iris.csv')\n",
    "df.head()"
   ]
  },
  {
   "cell_type": "markdown",
   "metadata": {},
   "source": [
    "## Taking a look at the flowers\n",
    "\n",
    "Our dataset does not contain images (as expected since it is a csv file), but we think that taking a look at external sources may be helpful when trying to understand a dataset.\n",
    "\n",
    "For this reason, we looked for Iris Flower images.\n",
    "\n",
    "![Iris Flowers](img/iris.png)\n",
    "\n",
    "By just looking at the three images we come up with a better idea of how each Iris flower class looks like, and most importantly we can differentiate between sepals and petals. *Before starting this project we didn't really know what a sepal was.* "
   ]
  },
  {
   "cell_type": "markdown",
   "metadata": {},
   "source": [
    "## Basic Statistics of the data\n",
    "\n",
    "We think that before starting with quite \"complex\" plots, we should describe our dataset. At least, knowing the possible values that categorical variables can take and knowing the distribution describing the quantitative variables is really valuable.\n",
    "\n",
    "In this dataset, we have only a single categorical variable, which is Flower Type, named as `class` in the DataFrame."
   ]
  },
  {
   "cell_type": "code",
   "execution_count": 4,
   "metadata": {},
   "outputs": [
    {
     "name": "stdout",
     "output_type": "stream",
     "text": [
      "Unique values for Flower type (`class` column): Iris-setosa,Iris-versicolor,Iris-virginica\n"
     ]
    }
   ],
   "source": [
    "unique_labels = df['class'].unique()\n",
    "print('Unique values for Flower type (`class` column):', ','.join(unique_labels))"
   ]
  },
  {
   "cell_type": "markdown",
   "metadata": {},
   "source": [
    "In the following figure, we can see, that we exactly have 50 instances for each flower type."
   ]
  },
  {
   "cell_type": "code",
   "execution_count": 5,
   "metadata": {},
   "outputs": [
    {
     "data": {
      "image/png": "[encoded data removed]",
      "text/plain": [
       "<Figure size 432x288 with 1 Axes>"
      ]
     },
     "metadata": {
      "needs_background": "light"
     },
     "output_type": "display_data"
    }
   ],
   "source": [
    "df['class'].value_counts().plot.bar(rot=20);"
   ]
  },
  {
   "cell_type": "markdown",
   "metadata": {},
   "source": [
    "On the other hand, we have the remaining variables which are quantitative. A good practice to describe the quantitative variables is by plotting its distribution and giving the values describing the distribution and its center."
   ]
  },
  {
   "cell_type": "code",
   "execution_count": 6,
   "metadata": {},
   "outputs": [
    {
     "data": {
      "text/html": [
       "<div>\n",
       "<style scoped>\n",
       "    .dataframe tbody tr th:only-of-type {\n",
       "        vertical-align: middle;\n",
       "    }\n",
       "\n",
       "    .dataframe tbody tr th {\n",
       "        vertical-align: top;\n",
       "    }\n",
       "\n",
       "    .dataframe thead th {\n",
       "        text-align: right;\n",
       "    }\n",
       "</style>\n",
       "<table border=\"1\" class=\"dataframe\">\n",
       "  <thead>\n",
       "    <tr style=\"text-align: right;\">\n",
       "      <th></th>\n",
       "      <th>sepal_length</th>\n",
       "      <th>sepal_width</th>\n",
       "      <th>petal_length</th>\n",
       "      <th>petal_width</th>\n",
       "    </tr>\n",
       "  </thead>\n",
       "  <tbody>\n",
       "    <tr>\n",
       "      <th>count</th>\n",
       "      <td>150.000000</td>\n",
       "      <td>150.000000</td>\n",
       "      <td>150.000000</td>\n",
       "      <td>150.000000</td>\n",
       "    </tr>\n",
       "    <tr>\n",
       "      <th>mean</th>\n",
       "      <td>5.843333</td>\n",
       "      <td>3.054000</td>\n",
       "      <td>3.758667</td>\n",
       "      <td>1.198667</td>\n",
       "    </tr>\n",
       "    <tr>\n",
       "      <th>std</th>\n",
       "      <td>0.828066</td>\n",
       "      <td>0.433594</td>\n",
       "      <td>1.764420</td>\n",
       "      <td>0.763161</td>\n",
       "    </tr>\n",
       "    <tr>\n",
       "      <th>min</th>\n",
       "      <td>4.300000</td>\n",
       "      <td>2.000000</td>\n",
       "      <td>1.000000</td>\n",
       "      <td>0.100000</td>\n",
       "    </tr>\n",
       "    <tr>\n",
       "      <th>25%</th>\n",
       "      <td>5.100000</td>\n",
       "      <td>2.800000</td>\n",
       "      <td>1.600000</td>\n",
       "      <td>0.300000</td>\n",
       "    </tr>\n",
       "    <tr>\n",
       "      <th>50%</th>\n",
       "      <td>5.800000</td>\n",
       "      <td>3.000000</td>\n",
       "      <td>4.350000</td>\n",
       "      <td>1.300000</td>\n",
       "    </tr>\n",
       "    <tr>\n",
       "      <th>75%</th>\n",
       "      <td>6.400000</td>\n",
       "      <td>3.300000</td>\n",
       "      <td>5.100000</td>\n",
       "      <td>1.800000</td>\n",
       "    </tr>\n",
       "    <tr>\n",
       "      <th>max</th>\n",
       "      <td>7.900000</td>\n",
       "      <td>4.400000</td>\n",
       "      <td>6.900000</td>\n",
       "      <td>2.500000</td>\n",
       "    </tr>\n",
       "  </tbody>\n",
       "</table>\n",
       "</div>"
      ],
      "text/plain": [
       "       sepal_length  sepal_width  petal_length  petal_width\n",
       "count    150.000000   150.000000    150.000000   150.000000\n",
       "mean       5.843333     3.054000      3.758667     1.198667\n",
       "std        0.828066     0.433594      1.764420     0.763161\n",
       "min        4.300000     2.000000      1.000000     0.100000\n",
       "25%        5.100000     2.800000      1.600000     0.300000\n",
       "50%        5.800000     3.000000      4.350000     1.300000\n",
       "75%        6.400000     3.300000      5.100000     1.800000\n",
       "max        7.900000     4.400000      6.900000     2.500000"
      ]
     },
     "execution_count": 6,
     "metadata": {},
     "output_type": "execute_result"
    }
   ],
   "source": [
    "q_vars = df.drop('class', axis='columns')\n",
    "q_vars.describe()"
   ]
  },
  {
   "cell_type": "code",
   "execution_count": 7,
   "metadata": {},
   "outputs": [
    {
     "data": {
      "image/png": "[encoded data removed]",
      "text/plain": [
       "<Figure size 1440x288 with 4 Axes>"
      ]
     },
     "metadata": {
      "needs_background": "light"
     },
     "output_type": "display_data"
    }
   ],
   "source": [
    "q_vars.hist(layout=(1, 4), figsize=(20, 4));"
   ]
  },
  {
   "cell_type": "markdown",
   "metadata": {},
   "source": [
    "## Taking a further look at the data\n",
    "\n",
    "When we statistically analyze a dataset, we can classify our columns in multiple types. One way to do so is spliting explanatory from response variables. In this case, the explanatory variables are the **widths and lengths** from the flowers, and the response variable is the **Iris class**. Threfore, in our basic anlysis we are going to try to figure out in which way the widths and lengths determine the flower class. In other words, we are going to check if a relationship exists between the withds and lengths of the flower with the flower class. "
   ]
  },
  {
   "cell_type": "markdown",
   "metadata": {},
   "source": [
    "Since all explanatory variables are quantitative and the response variable is categorical, we can plot a side-by-side boxplot for each quantitative variable."
   ]
  },
  {
   "cell_type": "code",
   "execution_count": 8,
   "metadata": {},
   "outputs": [
    {
     "data": {
      "image/png": "[encoded data removed]",
      "text/plain": [
       "<Figure size 1440x288 with 4 Axes>"
      ]
     },
     "metadata": {
      "needs_background": "light"
     },
     "output_type": "display_data"
    }
   ],
   "source": [
    "df.boxplot(['sepal_length', 'sepal_width', \n",
    "            'petal_length', 'petal_width'], \n",
    "            by='class',\n",
    "            figsize=(20, 4), layout=(1, 4));"
   ]
  },
  {
   "cell_type": "markdown",
   "metadata": {},
   "source": [
    "For `speal_length`, `petal_length`, and `petal_width` we can the see linear increasing trend being the Iris setosa the flower type that has the lowest values and the Iris virginica the largest. To further explore this trend, we plot a scatter plot of the sepal and petal length."
   ]
  },
  {
   "cell_type": "code",
   "execution_count": 9,
   "metadata": {},
   "outputs": [
    {
     "data": {
      "text/plain": [
       "Index(['Iris-setosa', 'Iris-versicolor', 'Iris-virginica'], dtype='object')"
      ]
     },
     "execution_count": 9,
     "metadata": {},
     "output_type": "execute_result"
    }
   ],
   "source": [
    "df['class'].astype('category').cat.categories"
   ]
  },
  {
   "cell_type": "code",
   "execution_count": 10,
   "metadata": {},
   "outputs": [
    {
     "data": {
      "image/png": "[encoded data removed]",
      "text/plain": [
       "<Figure size 432x432 with 1 Axes>"
      ]
     },
     "metadata": {
      "needs_background": "light"
     },
     "output_type": "display_data"
    }
   ],
   "source": [
    "plt.figure(figsize=(6, 6))\n",
    "\n",
    "for c, colors in zip(df['class'].unique(), 'rgb'):\n",
    "    plt.scatter(df[df['class'] == c].petal_length, \n",
    "                df[df['class'] == c].sepal_length,\n",
    "                label=c, c=colors)\n",
    "\n",
    "plt.xlabel('Petal length (cm)')\n",
    "plt.ylabel('Sepal length (cm)')\n",
    "plt.legend();"
   ]
  },
  {
   "cell_type": "markdown",
   "metadata": {},
   "source": [
    "And as expected the Iris With largest petals and sepal lengths are usually Iris Virginicas and the Flowers with the smallest petal and sepal lengths are Iris Setosas. Also, by looking at the scatter plot we can see the mentioned linear relationship.\n",
    "\n",
    "With pandas, we can easily compute the Pearson correlation."
   ]
  },
  {
   "cell_type": "code",
   "execution_count": 11,
   "metadata": {},
   "outputs": [
    {
     "name": "stdout",
     "output_type": "stream",
     "text": [
      "Pearson Correlation between Sepal and Petal Length: 0.8717541573048718\n"
     ]
    }
   ],
   "source": [
    "pcrr = df.sepal_length.corr(df.petal_length)\n",
    "print('Pearson Correlation between Sepal and Petal Length:', pcrr)"
   ]
  },
  {
   "cell_type": "markdown",
   "metadata": {},
   "source": [
    "Finally, it would be really useful if we could plot all four features at once and see how they influence the response variable flower type. We cannot do this with a single step, this is because we cannot generate a scatter plot with 4 dimensions. Fortunately, there is a technique called Principal Component Analysis (PCA) which allows us to reduce the dimensionality of the features without losing so much information.\n",
    "\n",
    "To apply PCA to our data, we are going to use `sklearn` package."
   ]
  },
  {
   "cell_type": "code",
   "execution_count": 12,
   "metadata": {},
   "outputs": [
    {
     "name": "stdout",
     "output_type": "stream",
     "text": [
      "Shape before PCA: (150, 4)\n",
      "Shape after PCA: (150, 2)\n"
     ]
    }
   ],
   "source": [
    "pca = PCA(n_components=2)\n",
    "reduced_iris = df.drop('class', axis='columns').values\n",
    "\n",
    "print('Shape before PCA:', reduced_iris.shape)\n",
    "\n",
    "reduced_iris = pca.fit_transform(reduced_iris)\n",
    "\n",
    "print('Shape after PCA:', reduced_iris.shape)"
   ]
  },
  {
   "cell_type": "code",
   "execution_count": 13,
   "metadata": {},
   "outputs": [
    {
     "data": {
      "image/png": "[encoded data removed]",
      "text/plain": [
       "<Figure size 432x288 with 1 Axes>"
      ]
     },
     "metadata": {
      "needs_background": "light"
     },
     "output_type": "display_data"
    }
   ],
   "source": [
    "classes = df['class'].astype('category')\n",
    "\n",
    "class_ids = classes.cat.codes\n",
    "class_ids = np.expand_dims(class_ids, axis=-1)\n",
    "\n",
    "class_names = classes.cat.categories\n",
    "\n",
    "reduced_iris = np.concatenate(\n",
    "    (reduced_iris, class_ids), axis=-1)\n",
    "\n",
    "for c, n, colors in zip(np.unique(class_ids), class_names, 'rgb'):\n",
    "    plt.scatter(reduced_iris[reduced_iris[:, -1] == float(c), 0], \n",
    "                reduced_iris[reduced_iris[:, -1] == float(c), 1],\n",
    "                label=n, c=colors)\n",
    "\n",
    "plt.xlabel('1st eighen vector')\n",
    "plt.ylabel('2nd eighen vector')\n",
    "plt.legend();"
   ]
  },
  {
   "cell_type": "markdown",
   "metadata": {},
   "source": [
    "Plotting the 4 features at once with 2 PCA components show even greater differences between flower types."
   ]
  },
  {
   "cell_type": "markdown",
   "metadata": {},
   "source": [
    "## References\n",
    "\n",
    "\\[1\\] [Matplotlib documentation](https://matplotlib.org/)\n",
    "\n",
    "\\[2\\] [Scikit Learn Documentation](https://scikit-learn.org/stable/)"
   ]
  }
 ],
 "metadata": {
  "kernelspec": {
   "display_name": "Python 3.7.7 64-bit ('basic-datascience': conda)",
   "language": "python",
   "name": "python37764bitbasicdatascienceconda237a26fbaa234cae81f9154756b1cd9f"
  },
  "language_info": {
   "codemirror_mode": {
    "name": "ipython",
    "version": 3
   },
   "file_extension": ".py",
   "mimetype": "text/x-python",
   "name": "python",
   "nbconvert_exporter": "python",
   "pygments_lexer": "ipython3",
   "version": "3.7.7"
  }
 },
 "nbformat": 4,
 "nbformat_minor": 2
}
