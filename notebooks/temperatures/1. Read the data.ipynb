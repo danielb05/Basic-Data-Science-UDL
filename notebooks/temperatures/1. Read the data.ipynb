{
 "cells": [
  {
   "cell_type": "markdown",
   "metadata": {},
   "source": [
    "# Reading Sensors Measures\n",
    "\n",
    "This dataset is composed of multiple files where each file corresponds to a set of sensor's readings. For instance, we have the humidity reads and temperature reads from DHT-11 sensor in 2 files: `H-DHT11-measures.json` and `T-DHT11-measures.csv`.\n",
    "\n",
    "Also, the dataset files have multiple formats (`json` and `csv`), which is not a thing that we want to."
   ]
  },
  {
   "cell_type": "code",
   "execution_count": 2,
   "metadata": {},
   "outputs": [],
   "source": [
    "import json\n",
    "from pathlib import Path\n",
    "\n",
    "import pandas as pd"
   ]
  },
  {
   "cell_type": "markdown",
   "metadata": {},
   "source": [
    "## Notebook technologies\n",
    "\n",
    "To read the json files and csv files, we are going to use two packages, json standard python package and `pandas`.\n",
    "\n",
    "- `json` package is an standard Python package that exposes an API similar to the `pickle` one to read Javascript Object Notation (JSON) files."
   ]
  },
  {
   "cell_type": "markdown",
   "metadata": {},
   "source": [
    "## Reading JSON files\n",
    "\n",
    "The files in this dataset are not *pure* JSON, they are `JSON Lines text format` \\[1\\]. Also known as newline-delimited JSON. JSON Lines is a convenient format for storing structured data that may be processed one record at a time (which seems pretty handy for sensor data).  \n",
    "\n",
    "Unfortunately, we cannot directly read JSON Lines format directly with `pandas` or `json` package. Therefore, we first should read the file lines and parse each one using the `json` package."
   ]
  },
  {
   "cell_type": "code",
   "execution_count": 3,
   "metadata": {},
   "outputs": [],
   "source": [
    "DATA_PATH = Path('../../data/raw')"
   ]
  },
  {
   "cell_type": "markdown",
   "metadata": {},
   "source": [
    "For example, we can read the `T-DM280-measures.json` data."
   ]
  },
  {
   "cell_type": "code",
   "execution_count": 4,
   "metadata": {},
   "outputs": [
    {
     "output_type": "stream",
     "name": "stdout",
     "text": "['{\"sensor\": \"T-DM280\", \"value\": 26.43, \"time\": \"2017-12-22T10:51:31Z\"}', '{\"sensor\": \"T-DM280\", \"value\": 26.43, \"time\": \"2017-12-22T10:51:35Z\"}', '{\"sensor\": \"T-DM280\", \"value\": 26.45, \"time\": \"2017-12-22T10:51:38Z\"}', '{\"sensor\": \"T-DM280\", \"value\": 26.45, \"time\": \"2017-12-22T10:51:41Z\"}', '']\n"
    }
   ],
   "source": [
    "fname = DATA_PATH / 'measures' / 'T-DM280-measures.json'\n",
    "json_lines = fname.read_text().split('\\n')\n",
    "print(json_lines[:5])"
   ]
  },
  {
   "cell_type": "markdown",
   "metadata": {},
   "source": [
    "And using the `json.loads` method, we can convert a string into a python dictionary."
   ]
  },
  {
   "cell_type": "code",
   "execution_count": 9,
   "metadata": {},
   "outputs": [
    {
     "output_type": "execute_result",
     "data": {
      "text/plain": "(4, {'sensor': 'T-DM280', 'value': 26.43, 'time': '2017-12-22T10:51:31Z'})"
     },
     "metadata": {},
     "execution_count": 9
    }
   ],
   "source": [
    "json_data = [json.loads(o, encoding='utf-8') for o in json_lines if o] \n",
    "len(json_data), json_data[0]"
   ]
  },
  {
   "cell_type": "markdown",
   "metadata": {},
   "source": [
    "Once we have a list of parsed JSONs, actually a list of dictionaries in python. It is pretty convinient to load them as a `pandas.DataFrame`."
   ]
  },
  {
   "cell_type": "code",
   "execution_count": 10,
   "metadata": {},
   "outputs": [
    {
     "output_type": "execute_result",
     "data": {
      "text/plain": "    sensor  value                  time\n0  T-DM280  26.43  2017-12-22T10:51:31Z\n1  T-DM280  26.43  2017-12-22T10:51:35Z\n2  T-DM280  26.45  2017-12-22T10:51:38Z\n3  T-DM280  26.45  2017-12-22T10:51:41Z",
      "text/html": "<div>\n<style scoped>\n    .dataframe tbody tr th:only-of-type {\n        vertical-align: middle;\n    }\n\n    .dataframe tbody tr th {\n        vertical-align: top;\n    }\n\n    .dataframe thead th {\n        text-align: right;\n    }\n</style>\n<table border=\"1\" class=\"dataframe\">\n  <thead>\n    <tr style=\"text-align: right;\">\n      <th></th>\n      <th>sensor</th>\n      <th>value</th>\n      <th>time</th>\n    </tr>\n  </thead>\n  <tbody>\n    <tr>\n      <th>0</th>\n      <td>T-DM280</td>\n      <td>26.43</td>\n      <td>2017-12-22T10:51:31Z</td>\n    </tr>\n    <tr>\n      <th>1</th>\n      <td>T-DM280</td>\n      <td>26.43</td>\n      <td>2017-12-22T10:51:35Z</td>\n    </tr>\n    <tr>\n      <th>2</th>\n      <td>T-DM280</td>\n      <td>26.45</td>\n      <td>2017-12-22T10:51:38Z</td>\n    </tr>\n    <tr>\n      <th>3</th>\n      <td>T-DM280</td>\n      <td>26.45</td>\n      <td>2017-12-22T10:51:41Z</td>\n    </tr>\n  </tbody>\n</table>\n</div>"
     },
     "metadata": {},
     "execution_count": 10
    }
   ],
   "source": [
    "df = pd.DataFrame(json_data)\n",
    "df.head()"
   ]
  },
  {
   "cell_type": "markdown",
   "metadata": {},
   "source": [
    "Now we have all the `pandas` functionalities in a data that initially was formated as JSON.\n",
    "\n",
    "We pack all the three steps mentioned in a single function, so we can reuse it later."
   ]
  },
  {
   "cell_type": "code",
   "execution_count": 13,
   "metadata": {},
   "outputs": [
    {
     "output_type": "execute_result",
     "data": {
      "text/plain": "    sensor  value                  time\n0  H-DHT11     31  2017-12-22T11:22:11Z\n1  H-DHT11     31  2017-12-22T11:22:16Z\n2  H-DHT11     31  2017-12-22T11:22:20Z\n3  H-DHT11     31  2017-12-22T11:22:24Z\n4  H-DHT11     31  2017-12-22T11:22:28Z",
      "text/html": "<div>\n<style scoped>\n    .dataframe tbody tr th:only-of-type {\n        vertical-align: middle;\n    }\n\n    .dataframe tbody tr th {\n        vertical-align: top;\n    }\n\n    .dataframe thead th {\n        text-align: right;\n    }\n</style>\n<table border=\"1\" class=\"dataframe\">\n  <thead>\n    <tr style=\"text-align: right;\">\n      <th></th>\n      <th>sensor</th>\n      <th>value</th>\n      <th>time</th>\n    </tr>\n  </thead>\n  <tbody>\n    <tr>\n      <th>0</th>\n      <td>H-DHT11</td>\n      <td>31</td>\n      <td>2017-12-22T11:22:11Z</td>\n    </tr>\n    <tr>\n      <th>1</th>\n      <td>H-DHT11</td>\n      <td>31</td>\n      <td>2017-12-22T11:22:16Z</td>\n    </tr>\n    <tr>\n      <th>2</th>\n      <td>H-DHT11</td>\n      <td>31</td>\n      <td>2017-12-22T11:22:20Z</td>\n    </tr>\n    <tr>\n      <th>3</th>\n      <td>H-DHT11</td>\n      <td>31</td>\n      <td>2017-12-22T11:22:24Z</td>\n    </tr>\n    <tr>\n      <th>4</th>\n      <td>H-DHT11</td>\n      <td>31</td>\n      <td>2017-12-22T11:22:28Z</td>\n    </tr>\n  </tbody>\n</table>\n</div>"
     },
     "metadata": {},
     "execution_count": 13
    }
   ],
   "source": [
    "def read_json_lines(f: str) -> pd.DataFrame:\n",
    "    lines = Path(f).read_text().split('\\n')\n",
    "    json_data = [json.loads(o, encoding='utf-8') for o in lines if o]\n",
    "    return pd.DataFrame(json_data)\n",
    "\n",
    "read_json_lines(DATA_PATH / 'measures' / 'H-DHT11-measures.json').head()"
   ]
  },
  {
   "cell_type": "markdown",
   "metadata": {},
   "source": [
    "## Reading CSV files\n",
    "\n",
    "As we did [here](notebooks/iris/1.\\ Read\\ the\\ data.ipynb), to load a csv file we just call `pd.read_csv`.\n",
    "\n",
    "For instance, let's try to read `H-DHT22-measures.csv` file."
   ]
  },
  {
   "cell_type": "code",
   "execution_count": 15,
   "metadata": {},
   "outputs": [
    {
     "output_type": "execute_result",
     "data": {
      "text/plain": "    sensor  value                  time\n0  H-DHT22   15.7  2017-12-19T14:07:18Z\n1  H-DHT22   15.7  2017-12-19T14:07:25Z\n2  H-DHT22   15.7  2017-12-19T14:07:32Z\n3  H-DHT22   15.7  2017-12-19T14:07:38Z\n4  H-DHT22   15.7  2017-12-19T14:07:45Z",
      "text/html": "<div>\n<style scoped>\n    .dataframe tbody tr th:only-of-type {\n        vertical-align: middle;\n    }\n\n    .dataframe tbody tr th {\n        vertical-align: top;\n    }\n\n    .dataframe thead th {\n        text-align: right;\n    }\n</style>\n<table border=\"1\" class=\"dataframe\">\n  <thead>\n    <tr style=\"text-align: right;\">\n      <th></th>\n      <th>sensor</th>\n      <th>value</th>\n      <th>time</th>\n    </tr>\n  </thead>\n  <tbody>\n    <tr>\n      <th>0</th>\n      <td>H-DHT22</td>\n      <td>15.7</td>\n      <td>2017-12-19T14:07:18Z</td>\n    </tr>\n    <tr>\n      <th>1</th>\n      <td>H-DHT22</td>\n      <td>15.7</td>\n      <td>2017-12-19T14:07:25Z</td>\n    </tr>\n    <tr>\n      <th>2</th>\n      <td>H-DHT22</td>\n      <td>15.7</td>\n      <td>2017-12-19T14:07:32Z</td>\n    </tr>\n    <tr>\n      <th>3</th>\n      <td>H-DHT22</td>\n      <td>15.7</td>\n      <td>2017-12-19T14:07:38Z</td>\n    </tr>\n    <tr>\n      <th>4</th>\n      <td>H-DHT22</td>\n      <td>15.7</td>\n      <td>2017-12-19T14:07:45Z</td>\n    </tr>\n  </tbody>\n</table>\n</div>"
     },
     "metadata": {},
     "execution_count": 15
    }
   ],
   "source": [
    "df = pd.read_csv(DATA_PATH / 'measures' / 'H-DHT22-measures.csv')\n",
    "df.head(5)"
   ]
  },
  {
   "cell_type": "markdown",
   "metadata": {},
   "source": [
    "In this case, contrary to Iris data, we have the columns names in the first row of the csv file. For this reason there is no need to specify them when reading the tabluar formatted data."
   ]
  },
  {
   "cell_type": "markdown",
   "metadata": {},
   "source": [
    "## References\n",
    "\n",
    "\\[1\\] [JSON Line text format](http://jsonlines.org/)"
   ]
  }
 ],
 "metadata": {
  "language_info": {
   "codemirror_mode": {
    "name": "ipython",
    "version": 3
   },
   "file_extension": ".py",
   "mimetype": "text/x-python",
   "name": "python",
   "nbconvert_exporter": "python",
   "pygments_lexer": "ipython3",
   "version": "3.7.7-final"
  },
  "orig_nbformat": 2,
  "kernelspec": {
   "name": "python37764bitbasicdatascienceconda237a26fbaa234cae81f9154756b1cd9f",
   "display_name": "Python 3.7.7 64-bit ('basic-datascience': conda)"
  }
 },
 "nbformat": 4,
 "nbformat_minor": 2
}